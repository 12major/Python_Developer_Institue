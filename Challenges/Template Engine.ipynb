{
 "cells": [
  {
   "cell_type": "markdown",
   "metadata": {},
   "source": [
    "# Template Engine"
   ]
  },
  {
   "cell_type": "markdown",
   "metadata": {},
   "source": [
    "A template engine is a program that can read a template and convert it to source code, your job is to make a template engine that can generate HTML pages from python code.\n",
    "<br>\n",
    "The template is a normal html code, but with dynamic python parts. Your program needs to read it and combine it with user arguments to generate a new HTML page."
   ]
  },
  {
   "cell_type": "markdown",
   "metadata": {},
   "source": [
    "\n",
    "### Here are the rules:\n",
    "-  The dynamic parts are contained into curly brackets {}\n",
    "-  There are two types of dynamic parts: __expressions__ and __statements__. Expressions are variables while statements are logical parts, like loops. To identify them, variables will be written between {} (in addition to the curly brackets that define a dynamic part) and statements between %%, like this:*{{ my_variable }}* and *{% my_statement %}*.\n",
    "-  __Statements__ are logical statements (in python code), they should be executed by python, since you can't execute operations, they can be only *if* and *for*.. Because indentation isn't relevant in HTML code, we will use special balises to define the end of a logical block, which are {% end< statement > %}*. The < statement > should be the name of the statement, like {% endif %} or {% endfor %}. \n",
    "-  __Expressions__ are written between curly brackets {}, this way: *{{ my_variable }}* and should be replaced by the value of the variable in the python code."
   ]
  },
  {
   "cell_type": "markdown",
   "metadata": {},
   "source": [
    "### Your class:\n",
    "-  Should be the most flexible as possible (make a clear class that can be modified easily, think about contraints before starting).\n",
    "-  Should have a function *render* that receive as arguments a template (the file location of your template) and the arguments that are needed to fill the template. You don't have to check the validity of the arguments, if an argument is missing, just let the program crash, it's user's fault. This function should return an HTML page."
   ]
  },
  {
   "cell_type": "markdown",
   "metadata": {},
   "source": [
    "__Example of a template:__"
   ]
  },
  {
   "cell_type": "code",
   "execution_count": null,
   "metadata": {},
   "outputs": [],
   "source": [
    "<!DOCTYPE html>\n",
    "<html lang=\"en\">\n",
    "<head>\n",
    "    <title>{{ my_title }}</title>\n",
    "</head>\n",
    "<body>\n",
    "    {% for post in posts %}\n",
    "        {% if post['secret'] == False %}\n",
    "            <p>{{ post['username'] }} says:<br>\n",
    "                {{ post['body'] }}\n",
    "            </p>\n",
    "        {% endif %}\n",
    "    {% endfor %}\n",
    "    \n",
    "</body>\n",
    "</html>"
   ]
  },
  {
   "cell_type": "code",
   "execution_count": null,
   "metadata": {},
   "outputs": [],
   "source": [
    "import jinja2\n",
    "posts = [\n",
    "    {'username':\"Eyal\",\n",
    "    'body':\"Hey, I am eyal, I love python !\",\n",
    "    'secret':False},\n",
    "    \n",
    "    {'username':\"Micheal Jackson\",\n",
    "    'body':\"Nothing...\",\n",
    "    'secret':False},\n",
    "    \n",
    "    {'username':\"Kim jong un\",\n",
    "    'body':\"North Korea is maybe not so beautiful after all..\",\n",
    "    'secret':True},\n",
    "]\n",
    "\n",
    "render('my_template.html', my_title=\"My page\", posts=posts)"
   ]
  },
  {
   "cell_type": "markdown",
   "metadata": {},
   "source": [
    "### This should return:"
   ]
  },
  {
   "cell_type": "markdown",
   "metadata": {},
   "source": [
    "<!DOCTYPE html>\n",
    "<html lang=\"en\">\n",
    "<head>\n",
    "    <title>{{ my_title }}</title>\n",
    "</head>\n",
    "<body>\n",
    "    \n",
    "    <p>\n",
    "        Eyal says:<br>\n",
    "        Hey, I am eyal, I love python !\n",
    "    </p>\n",
    "    <p>\n",
    "        Micheal Jackson says:<br>\n",
    "        Nothing...\n",
    "    </p>\n",
    "    \n",
    "</body>\n",
    "</html>"
   ]
  }
 ],
 "metadata": {
  "kernelspec": {
   "display_name": "Python 3",
   "language": "python",
   "name": "python3"
  },
  "language_info": {
   "codemirror_mode": {
    "name": "ipython",
    "version": 3
   },
   "file_extension": ".py",
   "mimetype": "text/x-python",
   "name": "python",
   "nbconvert_exporter": "python",
   "pygments_lexer": "ipython3",
   "version": "3.6.5"
  }
 },
 "nbformat": 4,
 "nbformat_minor": 2
}
