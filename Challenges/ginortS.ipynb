{
 "cells": [
  {
   "cell_type": "markdown",
   "metadata": {},
   "source": [
    "You are given a string. \n",
    "It contains alphanumeric characters only. \n",
    "Your task is to sort this string in the following manner:\n",
    "\n",
    "-  All sorted lowercase letters are ahead of uppercase letters.\n",
    "-  All sorted uppercase letters are ahead of digits.\n",
    "-  All sorted odd digits are ahead of sorted even digits.\n",
    "\n",
    "__Example:__\n",
    "\n",
    "`Sorting1234`\n",
    "\n",
    "__Output:__\n",
    "\n",
    "`ginortS1324`"
   ]
  },
  {
   "cell_type": "code",
   "execution_count": null,
   "metadata": {},
   "outputs": [],
   "source": []
  }
 ],
 "metadata": {
  "kernelspec": {
   "display_name": "Python 3",
   "language": "python",
   "name": "python3"
  },
  "language_info": {
   "codemirror_mode": {
    "name": "ipython",
    "version": 3
   },
   "file_extension": ".py",
   "mimetype": "text/x-python",
   "name": "python",
   "nbconvert_exporter": "python",
   "pygments_lexer": "ipython3",
   "version": "3.6.5"
  }
 },
 "nbformat": 4,
 "nbformat_minor": 2
}
