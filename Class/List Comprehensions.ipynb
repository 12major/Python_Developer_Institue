{
 "cells": [
  {
   "cell_type": "markdown",
   "metadata": {},
   "source": [
    "# List comprehensions\n"
   ]
  },
  {
   "cell_type": "markdown",
   "metadata": {},
   "source": [
    "## Insert a expression inside brackets\n",
    " This expression will be run into the list"
   ]
  },
  {
   "cell_type": "markdown",
   "metadata": {},
   "source": [
    "## It can contain:\n",
    "-  A transformation\n",
    "-  An iteration\n",
    "-  A condition (Not necessary)\n",
    "\n",
    "`new_list = [<transformation> <iteration> <condition>]`<br>\n",
    "*Example:*\n",
    "`new_list = [i*i for i in range(5) if i > 2]`\n"
   ]
  },
  {
   "cell_type": "markdown",
   "metadata": {},
   "source": [
    "## Decomposing a program into transformation, iteration and condition"
   ]
  },
  {
   "cell_type": "code",
   "execution_count": 2,
   "metadata": {},
   "outputs": [],
   "source": [
    "my_list = [1,3,5,7,9]\n",
    "my_new_list = []\n",
    "for number in my_list:\n",
    "    if number < 7:\n",
    "        my_new_list.append(number-1)"
   ]
  },
  {
   "cell_type": "markdown",
   "metadata": {},
   "source": [
    "-  ##### Transformation is what is added at the end to the list\n",
    "In the example: `number-1`\n",
    "-  ##### Iteration is the loop \n",
    "In the example: `for number in my_list`\n",
    "-  ##### Condition is an if statement that is processed on the elements\n",
    "In the example: `if number < 7`\n",
    "<br>\n",
    "\n",
    "Let's just replace it in the scheme *`[<transformation> <iteration> <condition>]`*:<br><br>\n",
    "\n",
    "`[number-1 for number in my_list if number < 7]`"
   ]
  },
  {
   "cell_type": "markdown",
   "metadata": {},
   "source": [
    "**** \n",
    "# Examples "
   ]
  },
  {
   "cell_type": "markdown",
   "metadata": {},
   "source": [
    "### Transform those programs into list comprehension"
   ]
  },
  {
   "cell_type": "code",
   "execution_count": 8,
   "metadata": {},
   "outputs": [],
   "source": [
    "list_of_words = [\"This\",\"is\",\"A\",\"LIST\",\"oF\",\"wORds\"]\n",
    "\n",
    "new_list = []\n",
    "for word in list_of_words:\n",
    "    new_list.append(word)"
   ]
  },
  {
   "cell_type": "code",
   "execution_count": 3,
   "metadata": {},
   "outputs": [],
   "source": [
    "list_of_words = [\"This\",\"is\",\"A\",\"LIST\",\"oF\",\"wORds\"]\n",
    "\n",
    "new_list = []\n",
    "for word in list_of_words:\n",
    "    new_list.append(word.lower())"
   ]
  },
  {
   "cell_type": "code",
   "execution_count": 4,
   "metadata": {},
   "outputs": [],
   "source": [
    "list_of_words = [\"This\",\"is\",\"A\",\"LIST\",\"oF\",\"wORds\"]\n",
    "\n",
    "new_list = []\n",
    "for word in list_of_words:\n",
    "    if len(word) > 2:\n",
    "        new_list.append(word.lower())"
   ]
  },
  {
   "cell_type": "code",
   "execution_count": 6,
   "metadata": {},
   "outputs": [
    {
     "name": "stdout",
     "output_type": "stream",
     "text": [
      "['sihT', 'TSIL', 'sdROw']\n"
     ]
    }
   ],
   "source": [
    "def reverse_word(word):\n",
    "    return word[::-1]\n",
    "\n",
    "list_of_words = [\"This\",\"is\",\"A\",\"LIST\",\"oF\",\"wORds\"]\n",
    "\n",
    "new_list = []\n",
    "for word in list_of_words:\n",
    "    if len(word) > 2:\n",
    "        new_list.append(reverse_word(word))"
   ]
  },
  {
   "cell_type": "markdown",
   "metadata": {},
   "source": [
    "****\n",
    "-  Write a one line code that remove every string that contain lower case in a list of strings"
   ]
  },
  {
   "cell_type": "code",
   "execution_count": 9,
   "metadata": {},
   "outputs": [],
   "source": [
    "list_of_words = [\"This\",\"is\",\"A\",\"LIST\",\"oF\",\"wORds\"]\n",
    "list_of_words = [word for word in list_of_words if word.upper() == word]"
   ]
  }
 ],
 "metadata": {
  "kernelspec": {
   "display_name": "Python 3",
   "language": "python",
   "name": "python3"
  },
  "language_info": {
   "codemirror_mode": {
    "name": "ipython",
    "version": 3
   },
   "file_extension": ".py",
   "mimetype": "text/x-python",
   "name": "python",
   "nbconvert_exporter": "python",
   "pygments_lexer": "ipython3",
   "version": "3.6.5"
  }
 },
 "nbformat": 4,
 "nbformat_minor": 2
}
