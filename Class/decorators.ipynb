{
 "cells": [
  {
   "cell_type": "markdown",
   "metadata": {},
   "source": [
    "## Decorators"
   ]
  },
  {
   "cell_type": "code",
   "execution_count": 15,
   "metadata": {},
   "outputs": [],
   "source": [
    "import json\n",
    "import os\n",
    "\n",
    "def update_inventory(myfunction):\n",
    "    def wrapper(item, amount):\n",
    "        r = myfunction(item, amount)\n",
    "        json.dump(self.inventory, open(database, 'w'))\n",
    "        return r\n",
    "    \n",
    "    return wrapper\n",
    "        \n",
    "        \n",
    "    \n",
    "class MyStore:\n",
    "    \n",
    "    def __init__(self, database):\n",
    "        self.database = database\n",
    "        if os.path.exists(database):\n",
    "            self.inventory = json.load(open(database, 'r'))\n",
    "        else:\n",
    "            self.inventory = {'shoe':0,\n",
    "                             'food':0,\n",
    "                             'electronic':0}\n",
    "    @update_inventory \n",
    "    def add(self, item, amount):\n",
    "        self.inventory[item] += amount\n",
    "        json.dump(self.inventory, open(database, 'w'))\n",
    "        \n",
    "    @update_inventory\n",
    "    def remove(self, item, amount):\n",
    "        if self.inventory[item] - amount >= 0:\n",
    "            self.inventory[item] -= amount\n",
    "        json.dump(self.inventory, open(database, 'w'))\n",
    "    "
   ]
  },
  {
   "cell_type": "code",
   "execution_count": 5,
   "metadata": {},
   "outputs": [
    {
     "name": "stdout",
     "output_type": "stream",
     "text": [
      "Hello from the decorator\n",
      "Hello from the function\n"
     ]
    }
   ],
   "source": [
    "def mydecorator(myfunction):\n",
    "    def wrapper():\n",
    "        print(\"Hello from the decorator\")\n",
    "        return myfunction()\n",
    "    return wrapper\n",
    "        \n",
    "\n",
    "@mydecorator\n",
    "def printhello():\n",
    "    print(\"Hello from the function\")\n",
    "    \n",
    "printhello()\n",
    "mydecorator(printhello())"
   ]
  },
  {
   "cell_type": "code",
   "execution_count": 8,
   "metadata": {},
   "outputs": [
    {
     "name": "stdout",
     "output_type": "stream",
     "text": [
      "10\n"
     ]
    }
   ],
   "source": [
    "def mydecorator(myfunction):\n",
    "    def wrapper(a,b):\n",
    "        return myfunction(a**2, b**2)\n",
    "    return wrapper\n",
    "    \n",
    "@mydecorator\n",
    "def add(a,b):\n",
    "    return a+b\n",
    "\n",
    "print(add(1,3))"
   ]
  },
  {
   "cell_type": "code",
   "execution_count": null,
   "metadata": {},
   "outputs": [],
   "source": [
    "import time\n",
    "def time_decorator(f):\n",
    "    def wrapper(*args, **kwargs):\n",
    "        start_time = time.time()\n",
    "        r = f(*args, **kwargs)\n",
    "        duration = time.time() - start_time\n",
    "        print('took',duration,'seconds')\n",
    "        return r\n",
    "    return wrapper\n",
    "\n",
    "@time_decorator\n",
    "def power_itself(huge_nb):\n",
    "    return huge_nb**huge_nb\n",
    "\n",
    "power_itself(23564)"
   ]
  },
  {
   "cell_type": "code",
   "execution_count": 14,
   "metadata": {
    "scrolled": true
   },
   "outputs": [
    {
     "name": "stdout",
     "output_type": "stream",
     "text": [
      "args: (3, 4, 5, 'mystring')\n",
      "kwargs {'myage': 20, 'myname': 'eyal'}\n",
      "args: (3, 4, 5, 'mystring')\n",
      "kwargs {'myage': 20, 'myname': 'eyal'}\n",
      "took 0.0009946823120117188 seconds\n"
     ]
    }
   ],
   "source": [
    "def myfunction2(*args, **kwargs):\n",
    "    print('args:',args)\n",
    "    print('kwargs',kwargs)\n",
    "    \n",
    "def myfunction(*args, **kwargs):\n",
    "    print('args:',args)\n",
    "    print('kwargs',kwargs)\n",
    "    myfunction2(*args, **kwargs)\n",
    "    \n",
    "myfunction(3,4,5,'mystring',myage=20,myname='eyal')\n",
    "# args = [3,4,5,'mystring']\n",
    "# kwargs = {'myage':20,'myname':'eyal'}"
   ]
  },
  {
   "cell_type": "code",
   "execution_count": null,
   "metadata": {},
   "outputs": [],
   "source": [
    "def myfunction(a,b,c, myage):\n",
    "    print(\"a:\",a)\n",
    "    print(\"b:\",b)\n",
    "    print(\"c:\",c)\n",
    "    print('myage:',myage)\n",
    "\n",
    "args = [1,2,3]\n",
    "kwargs = {'myage':20}\n",
    "myfunction(*args,**kwargs)\n",
    "# myfcuntion(1,2,3,myage=20)"
   ]
  },
  {
   "cell_type": "code",
   "execution_count": null,
   "metadata": {},
   "outputs": [],
   "source": []
  }
 ],
 "metadata": {
  "kernelspec": {
   "display_name": "Python 3",
   "language": "python",
   "name": "python3"
  },
  "language_info": {
   "codemirror_mode": {
    "name": "ipython",
    "version": 3
   },
   "file_extension": ".py",
   "mimetype": "text/x-python",
   "name": "python",
   "nbconvert_exporter": "python",
   "pygments_lexer": "ipython3",
   "version": "3.6.5"
  }
 },
 "nbformat": 4,
 "nbformat_minor": 2
}
