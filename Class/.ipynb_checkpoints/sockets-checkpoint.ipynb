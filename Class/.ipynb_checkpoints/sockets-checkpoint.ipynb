{
 "cells": [
  {
   "cell_type": "markdown",
   "metadata": {},
   "source": [
    "# Sockets"
   ]
  },
  {
   "cell_type": "markdown",
   "metadata": {},
   "source": [
    "## What is an ip"
   ]
  },
  {
   "cell_type": "markdown",
   "metadata": {},
   "source": [
    "## What is a port"
   ]
  },
  {
   "cell_type": "markdown",
   "metadata": {},
   "source": [
    "## Server and client"
   ]
  },
  {
   "cell_type": "markdown",
   "metadata": {},
   "source": [
    "## What is a socket"
   ]
  },
  {
   "cell_type": "markdown",
   "metadata": {},
   "source": [
    "## Server socket"
   ]
  },
  {
   "cell_type": "markdown",
   "metadata": {},
   "source": [
    "## Client socket"
   ]
  },
  {
   "cell_type": "markdown",
   "metadata": {},
   "source": [
    "****"
   ]
  },
  {
   "cell_type": "markdown",
   "metadata": {},
   "source": [
    "# Little project\n",
    "Write a chat app"
   ]
  },
  {
   "cell_type": "markdown",
   "metadata": {},
   "source": [
    "## First part: The server"
   ]
  },
  {
   "cell_type": "code",
   "execution_count": null,
   "metadata": {},
   "outputs": [],
   "source": [
    "import socket\n",
    "from threading import Thread\n",
    "\n",
    "bind_ip   = '0.0.0.0'\n",
    "bind_port = 9999\n",
    "\n",
    "server = socket.socket(socket.AF_INET, socket.SOCK_STREAM)\n",
    "\n",
    "server.bind((bind_ip, bind_port))\n",
    "\n",
    "server.listen(1)\n",
    "print(\"Listening on {}:{}\".format(bind_ip, bind_port))\n",
    "def connection(client_socket):\n",
    "    while True:\n",
    "        data = client_socket.recv(1024)\n",
    "        if not data:\n",
    "            break\n",
    "        print(\"[*] Received {}\".format(data.decode('utf-8')))\n",
    "        response_message = \"Server:# \"+input(\">>>\")\n",
    "        client_socket.send(response_message.encode('utf-8'))\n",
    "\n",
    "\n",
    "\n",
    "while True:\n",
    "    client_socket, addr = server.accept()\n",
    "    \n",
    "    print(\"[*] connected to\",addr)\n",
    "    client_thread = Thread(target=connection, args=(client_socket))\n",
    "    client_thread.start()"
   ]
  },
  {
   "cell_type": "markdown",
   "metadata": {},
   "source": [
    "## Second part - The client"
   ]
  },
  {
   "cell_type": "code",
   "execution_count": null,
   "metadata": {
    "scrolled": true
   },
   "outputs": [],
   "source": [
    "import socket\n",
    "\n",
    "target_ip   = '127.0.0.1'\n",
    "target_port = 9999\n",
    "\n",
    "socket = socket.socket(socket.AF_INET, socket.SOCK_STREAM)\n",
    "socket.connect((target_ip,target_port))\n",
    "print(socket.recv(1024).decode('utf-8'))\n",
    "while True:\n",
    "    msg = input(\">>> \")\n",
    "    if msg == \"stop\":\n",
    "        break\n",
    "    socket.send(msg.encode('utf-8'))\n",
    "    print(\"...\")\n",
    "    print(socket.recv(1024).decode('utf-8'))\n",
    "socket.close()\n",
    "    "
   ]
  },
  {
   "cell_type": "code",
   "execution_count": null,
   "metadata": {},
   "outputs": [],
   "source": []
  },
  {
   "cell_type": "code",
   "execution_count": null,
   "metadata": {},
   "outputs": [],
   "source": []
  }
 ],
 "metadata": {
  "kernelspec": {
   "display_name": "Python 3",
   "language": "python",
   "name": "python3"
  },
  "language_info": {
   "codemirror_mode": {
    "name": "ipython",
    "version": 3
   },
   "file_extension": ".py",
   "mimetype": "text/x-python",
   "name": "python",
   "nbconvert_exporter": "python",
   "pygments_lexer": "ipython3",
   "version": "3.6.5"
  }
 },
 "nbformat": 4,
 "nbformat_minor": 2
}
