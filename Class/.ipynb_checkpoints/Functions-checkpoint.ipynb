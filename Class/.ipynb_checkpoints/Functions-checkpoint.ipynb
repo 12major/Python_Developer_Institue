{
 "cells": [
  {
   "cell_type": "markdown",
   "metadata": {},
   "source": [
    "# Functions\n",
    "\n",
    "## Named blocks of code which are designed to do one specific job\n"
   ]
  },
  {
   "cell_type": "markdown",
   "metadata": {},
   "source": [
    "## Define a function\n",
    "<pre>\n",
    "def name_of_the_function():\n",
    "    DO ...\n",
    "</pre>"
   ]
  },
  {
   "cell_type": "code",
   "execution_count": 6,
   "metadata": {},
   "outputs": [],
   "source": [
    "def print_hello_world():\n",
    "    print(\"Hello World !\")"
   ]
  },
  {
   "cell_type": "markdown",
   "metadata": {},
   "source": [
    "## Define a function with arguments\n",
    "<pre>\n",
    "def name_of_the_function(arguments):\n",
    "    DO ...\n",
    "</pre>"
   ]
  },
  {
   "cell_type": "code",
   "execution_count": 39,
   "metadata": {},
   "outputs": [],
   "source": [
    "def heighest_number(number1, number2):\n",
    "    if number1 > number2:\n",
    "        heighest = number1\n",
    "    else:\n",
    "        heighest = number2\n",
    "    \n",
    "    print(\"heighest number is\", heighest)"
   ]
  },
  {
   "cell_type": "markdown",
   "metadata": {},
   "source": [
    "## /!\\ \n",
    "-  The name in the function doesn't have to be the name given in the arguments\n",
    "-  Variables defined in the function die at the end of the function execution"
   ]
  },
  {
   "cell_type": "markdown",
   "metadata": {},
   "source": [
    "## Call a function\n"
   ]
  },
  {
   "cell_type": "code",
   "execution_count": 25,
   "metadata": {},
   "outputs": [
    {
     "name": "stdout",
     "output_type": "stream",
     "text": [
      "heighest number is  6\n",
      "heighest number is  7\n"
     ]
    }
   ],
   "source": [
    "# Way one: positional arguments\n",
    "# Order matters\n",
    "heighest_number(5,6)\n",
    "\n",
    "# Way two: keywords arguments\n",
    "# Order doesn't matter\n",
    "heighest_number(number2=3, number1=7)"
   ]
  },
  {
   "cell_type": "markdown",
   "metadata": {},
   "source": [
    "## Default values\n",
    "<pre>\n",
    "def function_name(argument1=default_value):\n",
    "    DO ...\n",
    "</pre>\n",
    "\n",
    "If nothing is passed as argument1, it will be assigned to default_value"
   ]
  },
  {
   "cell_type": "code",
   "execution_count": 43,
   "metadata": {},
   "outputs": [],
   "source": [
    "def heighest_number(number1, number2=0):\n",
    "    if number1 > number2:\n",
    "        heighest = number1\n",
    "    else:\n",
    "        heighest = number2\n",
    "    \n",
    "    print(\"heighest number is\",heighest)"
   ]
  },
  {
   "cell_type": "code",
   "execution_count": 44,
   "metadata": {},
   "outputs": [
    {
     "ename": "SyntaxError",
     "evalue": "non-default argument follows default argument (<ipython-input-44-1ede73a28018>, line 1)",
     "output_type": "error",
     "traceback": [
      "\u001b[1;36m  File \u001b[1;32m\"<ipython-input-44-1ede73a28018>\"\u001b[1;36m, line \u001b[1;32m1\u001b[0m\n\u001b[1;33m    def heighest_number(number1=5, number2):\u001b[0m\n\u001b[1;37m                       ^\u001b[0m\n\u001b[1;31mSyntaxError\u001b[0m\u001b[1;31m:\u001b[0m non-default argument follows default argument\n"
     ]
    }
   ],
   "source": [
    "def heighest_number(number2,number1=5):\n",
    "    if number1 > number2:\n",
    "        heighest = number1\n",
    "    else:\n",
    "        heighest = number2\n",
    "    \n",
    "    print(\"heighest number is\",heighest)\n",
    "    \n",
    "heighest_number(3)"
   ]
  },
  {
   "cell_type": "markdown",
   "metadata": {},
   "source": [
    "# ------------------------------------------------------------------------------------------------------------\n",
    "# Exercises\n",
    "\n"
   ]
  },
  {
   "cell_type": "markdown",
   "metadata": {},
   "source": [
    "# 1\n",
    "Write a function called make_shirt() that accepts a size and the\n",
    "text of a message that should be printed on the shirt. The function should print\n",
    "a sentence summarizing the size of the shirt and the message printed on it."
   ]
  },
  {
   "cell_type": "markdown",
   "metadata": {},
   "source": [
    "# 2\n",
    "Modify this function so that shirt are larges by default with a message that reads \"I love Python\""
   ]
  },
  {
   "cell_type": "markdown",
   "metadata": {},
   "source": [
    "# 3 ~\n",
    "Write a function that accept two numbers, and then check if they really are numbers, if they are then print their sum."
   ]
  },
  {
   "cell_type": "markdown",
   "metadata": {},
   "source": [
    "# ------------------------------------------------------------------------------------------------------------\n",
    "# Returning values\n",
    "\n",
    "## Usage:\n",
    "\n",
    "<pre>\n",
    "    def function_name(argument1, argument2):\n",
    "        DO ...\n",
    "        return ...\n",
    "</pre>\n",
    "\n",
    "We can return any type of element"
   ]
  },
  {
   "cell_type": "code",
   "execution_count": 28,
   "metadata": {},
   "outputs": [],
   "source": [
    "def heighest_number(number1, number2=0):\n",
    "    if number1 > number2:\n",
    "        heighest = number1\n",
    "    else:\n",
    "        heighest = number2\n",
    "    \n",
    "    return heighest"
   ]
  },
  {
   "cell_type": "markdown",
   "metadata": {},
   "source": [
    "# ------------------------------------------------------------------------------------------------------------\n",
    "# Exercises\n",
    "\n"
   ]
  },
  {
   "cell_type": "markdown",
   "metadata": {},
   "source": [
    "# 1\n",
    "Write a function that gets a number as argument and return a list of numbers from 0 to this number"
   ]
  },
  {
   "cell_type": "markdown",
   "metadata": {},
   "source": [
    "# 2\n",
    "W"
   ]
  }
 ],
 "metadata": {
  "kernelspec": {
   "display_name": "Python 3",
   "language": "python",
   "name": "python3"
  },
  "language_info": {
   "codemirror_mode": {
    "name": "ipython",
    "version": 3
   },
   "file_extension": ".py",
   "mimetype": "text/x-python",
   "name": "python",
   "nbconvert_exporter": "python",
   "pygments_lexer": "ipython3",
   "version": "3.6.5"
  }
 },
 "nbformat": 4,
 "nbformat_minor": 2
}
