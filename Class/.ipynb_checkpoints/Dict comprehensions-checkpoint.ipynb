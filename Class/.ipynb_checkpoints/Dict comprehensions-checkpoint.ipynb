{
 "cells": [
  {
   "cell_type": "markdown",
   "metadata": {},
   "source": [
    "# Dict comprehension"
   ]
  },
  {
   "cell_type": "markdown",
   "metadata": {},
   "source": [
    "## Insert an expression inside curly brackets\n",
    "This expression will be run and return a dict"
   ]
  },
  {
   "cell_type": "markdown",
   "metadata": {},
   "source": [
    "## Reminder: Creating a dictionnary\n",
    "<pre><code>\n",
    "    my_dict = { \"key1\":\"value1\",\n",
    "                \"key2\":\"value2\",\n",
    "                \"key3\":\"value3\"} \n",
    "</code></pre>\n",
    "With dict comprehension, it will be created dynamically through the iteration"
   ]
  },
  {
   "cell_type": "markdown",
   "metadata": {},
   "source": [
    "## It can contain:\n",
    "-  A key transformation\n",
    "-  A value transformation\n",
    "-  An iteration\n",
    "-  A condition\n",
    "\n",
    "`new_dict = {<key_transformation>:<value_transformation> <iteration> <condition>}`<br>\n",
    "*Example:*\n",
    "`new_dict = [i:i*i for i in range(5) if i > 2]`"
   ]
  },
  {
   "cell_type": "markdown",
   "metadata": {},
   "source": [
    "## Decomposing a program into key and value transformation, iteration and condition"
   ]
  },
  {
   "cell_type": "code",
   "execution_count": 2,
   "metadata": {},
   "outputs": [],
   "source": [
    "my_family_ages  = [5,10,11,12,15]\n",
    "my_family_names = ['jack', 'henry', 'mario', 'luigi', 'bowser']\n",
    "\n",
    "my_family_dict  = {}\n",
    "\n",
    "for age, name in zip(my_family_ages, my_family_names):\n",
    "    my_family_dict[name.lower()] = age "
   ]
  },
  {
   "cell_type": "markdown",
   "metadata": {},
   "source": [
    "-  ##### Key transformation is what is added as a key every iteration\n",
    "In the example: `name.lower()`\n",
    "-  ##### Value transformation is what is added as a value at every iteration\n",
    "In the example: `age`, it's unchanged\n",
    "-  ##### Iteration is the loop \n",
    "In the example: `for age, name in zip(my_family_ages, my_family_names)`\n",
    "-  ##### Condition is an if statement that is processed on the elements\n",
    "In the example, there is not if statement\n",
    "<br>\n",
    "\n",
    "Let's just replace it in the scheme *`{<key_transformation>:<value_transformation> <iteration> <condition>]`*:<br><br>\n",
    "\n",
    "`{name.lower():age for age, name in zip(family_ages, family_names)}`"
   ]
  },
  {
   "cell_type": "markdown",
   "metadata": {},
   "source": [
    "****\n",
    "# Examples"
   ]
  },
  {
   "cell_type": "markdown",
   "metadata": {},
   "source": [
    "### Transform those programs into dict comprehension"
   ]
  },
  {
   "cell_type": "code",
   "execution_count": 1,
   "metadata": {},
   "outputs": [],
   "source": [
    "messed_up_users = {\"testuser1\":\"Fakepassword\",\n",
    "                  \"mario\":\"H3reweg0\",\n",
    "                  \"thisisatest\":\"testpassword\",\n",
    "                  \"testtesttest\":\"chocolate\",\n",
    "                  \"luigi\":\"greenislife\"}\n",
    "\n",
    "clean_users = {}\n",
    "for user, pwd in messed_up_users.items():\n",
    "    if 'test' not in user:\n",
    "        clean_users[user] = pwd\n"
   ]
  },
  {
   "cell_type": "code",
   "execution_count": 3,
   "metadata": {},
   "outputs": [],
   "source": [
    "stock = {'shoes':5,\n",
    "        'shirts':-2,\n",
    "        'bags':-5,\n",
    "        'hats':10}\n",
    "\n",
    "available = {}\n",
    "for product, amount in stock.items():\n",
    "    if amount < 0:\n",
    "        available[product] = amount"
   ]
  },
  {
   "cell_type": "code",
   "execution_count": 4,
   "metadata": {},
   "outputs": [],
   "source": [
    "stock = {'shoes':5,\n",
    "        'shirts':-2,\n",
    "        'bags':-5,\n",
    "        'hats':10}\n",
    "\n",
    "commands = {}\n",
    "for product, amount in stock.items():\n",
    "    if amount > 0:\n",
    "        commands[product] = 0\n",
    "    else:\n",
    "        commands[product] = abs(amount)\n"
   ]
  },
  {
   "cell_type": "markdown",
   "metadata": {},
   "source": [
    "****\n",
    "### Given this list of words"
   ]
  },
  {
   "cell_type": "code",
   "execution_count": 8,
   "metadata": {},
   "outputs": [],
   "source": [
    "words = ['we', 'are', 'the', 'words', 'of', 'this', 'beautiful', 'list']"
   ]
  },
  {
   "cell_type": "markdown",
   "metadata": {},
   "source": [
    "#### Transform it into a list with all the lengths of the words"
   ]
  },
  {
   "cell_type": "markdown",
   "metadata": {},
   "source": [
    "#### Transform it into a dictionnary of every word associated with his length "
   ]
  },
  {
   "cell_type": "markdown",
   "metadata": {},
   "source": [
    "#### Cast all the keys of this dictionnary into uppercase"
   ]
  },
  {
   "cell_type": "code",
   "execution_count": null,
   "metadata": {},
   "outputs": [],
   "source": []
  }
 ],
 "metadata": {
  "kernelspec": {
   "display_name": "Python 3",
   "language": "python",
   "name": "python3"
  },
  "language_info": {
   "codemirror_mode": {
    "name": "ipython",
    "version": 3
   },
   "file_extension": ".py",
   "mimetype": "text/x-python",
   "name": "python",
   "nbconvert_exporter": "python",
   "pygments_lexer": "ipython3",
   "version": "3.6.5"
  }
 },
 "nbformat": 4,
 "nbformat_minor": 2
}
