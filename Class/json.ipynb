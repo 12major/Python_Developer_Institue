{
 "cells": [
  {
   "cell_type": "markdown",
   "metadata": {},
   "source": [
    "# Json\n",
    "-  json is a way to store dictionnaries in a file\n",
    "-  it uses too functions --> json.dump(dict_to_store, fileobject) and json.read(fileobject)\n",
    "-  Careful: fileobject is not a file name\n"
   ]
  },
  {
   "cell_type": "code",
   "execution_count": null,
   "metadata": {},
   "outputs": [],
   "source": [
    "import json\n",
    "import os\n",
    "\n",
    "class MyStore:\n",
    "    \n",
    "    def __init__(self, database):\n",
    "        self.database = database\n",
    "        if os.path.exists(database):\n",
    "            self.inventory = json.load(open(database, 'r'))\n",
    "        else:\n",
    "            self.inventory = {'shoe':0,\n",
    "                             'food':0,\n",
    "                             'electronic':0}\n",
    "            \n",
    "    def add(self, item, amount):\n",
    "        self.inventory[item] += amount\n",
    "        json.dump(self.inventory, open(database, 'w'))\n",
    "    \n",
    "    def remove(self, item, amount):\n",
    "        if self.inventory[item] - amount >= 0:\n",
    "            self.inventory[item] -= amount\n",
    "        json.dump(self.inventory, open(database, 'w'))\n",
    "    \n",
    "    "
   ]
  }
 ],
 "metadata": {
  "kernelspec": {
   "display_name": "Python 3",
   "language": "python",
   "name": "python3"
  },
  "language_info": {
   "codemirror_mode": {
    "name": "ipython",
    "version": 3
   },
   "file_extension": ".py",
   "mimetype": "text/x-python",
   "name": "python",
   "nbconvert_exporter": "python",
   "pygments_lexer": "ipython3",
   "version": "3.6.5"
  }
 },
 "nbformat": 4,
 "nbformat_minor": 2
}
