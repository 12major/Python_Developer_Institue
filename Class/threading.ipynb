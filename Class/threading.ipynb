{
 "cells": [
  {
   "cell_type": "markdown",
   "metadata": {},
   "source": [
    "# Threading"
   ]
  },
  {
   "cell_type": "markdown",
   "metadata": {},
   "source": [
    "## What is a thread\n",
    "Threading mean running two (or more) parts of code in parallel"
   ]
  },
  {
   "cell_type": "markdown",
   "metadata": {},
   "source": [
    "## threading module"
   ]
  },
  {
   "cell_type": "code",
   "execution_count": 5,
   "metadata": {},
   "outputs": [],
   "source": [
    "import threading"
   ]
  },
  {
   "cell_type": "markdown",
   "metadata": {},
   "source": [
    "## Thread class"
   ]
  },
  {
   "cell_type": "code",
   "execution_count": null,
   "metadata": {},
   "outputs": [],
   "source": [
    "import time\n",
    "def first_function():\n",
    "    for i in range(5):\n",
    "        print(\"I am function 1\")\n",
    "        time.sleep(1)\n",
    "    \n",
    "def second_function():\n",
    "    for i in range(5):\n",
    "        print(\"I am function 2\")\n",
    "        time.sleep(1)\n",
    "        \n",
    "thread1 = threading.Thread(target=first_function)\n",
    "thread2 = threading.Thread(target=second_function)\n",
    "\n",
    "thread1.start()\n",
    "thread2.start()\n",
    "\n",
    "print(\"I am after the threads\")"
   ]
  },
  {
   "cell_type": "markdown",
   "metadata": {},
   "source": [
    "## Event class"
   ]
  },
  {
   "cell_type": "code",
   "execution_count": null,
   "metadata": {},
   "outputs": [],
   "source": [
    "def infinite_loop(event):\n",
    "    while not event.is_set():\n",
    "        print(\"Hey there\")\n",
    "        time.sleep(1)\n",
    "    print(\"finished !\")\n",
    "\n",
    "timeout_event = threading.Event()\n",
    "infinite_thread = threading.Thread(target=infinite_loop, kwargs={'event':timeout_event})\n",
    "\n",
    "infinite_thread.start()\n",
    "\n",
    "time.sleep(5)\n",
    "print(\"Event is set !\")\n",
    "timeout_event.set()"
   ]
  },
  {
   "cell_type": "markdown",
   "metadata": {},
   "source": [
    "*****\n",
    "# Exercises"
   ]
  },
  {
   "cell_type": "markdown",
   "metadata": {},
   "source": [
    "Make a little game. Ask the user to find the sum (or the multiplication) of two numbers, he has 5 seconds to find the result, else he loose. "
   ]
  },
  {
   "cell_type": "code",
   "execution_count": 13,
   "metadata": {},
   "outputs": [
    {
     "name": "stdout",
     "output_type": "stream",
     "text": [
      "GO !\n",
      "I did 5 meters\n",
      "I did 10 meters\n"
     ]
    }
   ],
   "source": [
    "def rabbit(event):\n",
    "    pos = 0\n",
    "    while event.is_set() == False:\n",
    "        time.sleep(1)\n",
    "        pos += 1\n",
    "    print(\"I did {} meters\".format(pos))\n",
    "\n",
    "def turtle(event):\n",
    "    pos = 0\n",
    "    while event.is_set() == False:\n",
    "        time.sleep(2)\n",
    "        pos += 1\n",
    "    print(\"I did {} meters\".format(pos))\n",
    "    \n",
    "race_event    = threading.Event()\n",
    "rabbit_thread = threading.Thread(target=rabbit, args=[race_event])\n",
    "turtle_thread = threading.Thread(target=turtle, args=[race_event])\n",
    "\n",
    "print(\"GO !\")\n",
    "rabbit_thread.start()\n",
    "turtle_thread.start()\n",
    "\n",
    "time.sleep(10)\n",
    "race_event.set()"
   ]
  },
  {
   "cell_type": "code",
   "execution_count": null,
   "metadata": {},
   "outputs": [],
   "source": []
  }
 ],
 "metadata": {
  "kernelspec": {
   "display_name": "Python 3",
   "language": "python",
   "name": "python3"
  },
  "language_info": {
   "codemirror_mode": {
    "name": "ipython",
    "version": 3
   },
   "file_extension": ".py",
   "mimetype": "text/x-python",
   "name": "python",
   "nbconvert_exporter": "python",
   "pygments_lexer": "ipython3",
   "version": "3.6.5"
  }
 },
 "nbformat": 4,
 "nbformat_minor": 2
}
