{
 "cells": [
  {
   "cell_type": "markdown",
   "metadata": {},
   "source": [
    "# Iterate over a list:\n"
   ]
  },
  {
   "cell_type": "code",
   "execution_count": null,
   "metadata": {},
   "outputs": [],
   "source": [
    "my_list = ['this', 'is', 'a', 'list']\n",
    "ix = 0\n",
    "\n",
    "while ix < len(my_list):\n",
    "    print(my_list[ix])\n",
    "    ix += 1\n"
   ]
  },
  {
   "cell_type": "markdown",
   "metadata": {},
   "source": [
    "# The __for__ loop\n",
    "\n",
    "-  Used for iteration over an element\n",
    "-  Every type of element has his own type of iteration (some types just don't support it)\n",
    "\n"
   ]
  },
  {
   "cell_type": "markdown",
   "metadata": {},
   "source": [
    "## Usage:\n",
    "\n",
    "for variable_name in element:<br>\n",
    "<pre>     DO ...<pre>"
   ]
  },
  {
   "cell_type": "code",
   "execution_count": 9,
   "metadata": {},
   "outputs": [
    {
     "name": "stdout",
     "output_type": "stream",
     "text": [
      "this\n",
      "is\n",
      "a\n",
      "list\n"
     ]
    }
   ],
   "source": [
    "# Example:\n",
    "my_list = [\"this\", \"is\", \"a\", \"list\"]\n",
    "\n",
    "for my_element in my_list:\n",
    "    print(my_element)"
   ]
  },
  {
   "cell_type": "markdown",
   "metadata": {},
   "source": [
    "## Like in a if statement, indentation is very important in a for loop\n",
    "The loop ends with the indentation<br>\n",
    "After the loop, the variable declared inside the loop is still existing"
   ]
  },
  {
   "cell_type": "code",
   "execution_count": 11,
   "metadata": {},
   "outputs": [
    {
     "name": "stdout",
     "output_type": "stream",
     "text": [
      "this\n",
      "is\n",
      "a\n",
      "list\n",
      "-----\n",
      "The last element in the list was: list\n"
     ]
    }
   ],
   "source": [
    "my_list = [\"this\", \"is\", \"a\", \"list\"]\n",
    "for my_variable in my_list:\n",
    "    print(my_variable)\n",
    "    \n",
    "print(\"-----\")\n",
    "print(\"The last element in the list was:\",elem)"
   ]
  },
  {
   "cell_type": "markdown",
   "metadata": {},
   "source": [
    "# Exercise:\n",
    "Given a list of names, say hello only to people whose name start with a S"
   ]
  },
  {
   "cell_type": "code",
   "execution_count": 12,
   "metadata": {},
   "outputs": [
    {
     "name": "stdout",
     "output_type": "stream",
     "text": [
      "hello Steve\n",
      "hello Stan\n",
      "hello Snot\n"
     ]
    }
   ],
   "source": [
    "names = [\"Steve\", \"Jeff\", \"Stan\", \"Hailey\", \"Barry\", \"Snot\", \"Francine\", \"Roger\"]\n",
    "\n",
    "##### YOUR CODE #######\n",
    "for name in names:\n",
    "    if name[0].lower() == \"s\":\n",
    "        print(\"hello\",name)\n",
    "#######################"
   ]
  },
  {
   "cell_type": "markdown",
   "metadata": {},
   "source": [
    "## Iterate through a string"
   ]
  },
  {
   "cell_type": "code",
   "execution_count": null,
   "metadata": {
    "scrolled": true
   },
   "outputs": [],
   "source": [
    "phrase = \"I love python\"\n",
    "for letter in phrase:\n",
    "    print(letter)"
   ]
  },
  {
   "cell_type": "markdown",
   "metadata": {},
   "source": [
    "## break\n",
    "\n",
    "Stop the loop"
   ]
  },
  {
   "cell_type": "code",
   "execution_count": null,
   "metadata": {},
   "outputs": [],
   "source": [
    "names = [\"Steve\", \"Jeff\", \"Stan\", \"Hailey\", \"Barry\", \"Snot\", \"Francine\", \"Roger\"]\n",
    "\n",
    "for name in names:\n",
    "    if name[0] == \"H\":\n",
    "        break\n",
    "    else:\n",
    "        print(\"Hello\", name)"
   ]
  },
  {
   "cell_type": "markdown",
   "metadata": {},
   "source": [
    "## Range\n",
    "\n",
    "Return an object (like a list) of numbers from 0 to x (x is not included)"
   ]
  },
  {
   "cell_type": "code",
   "execution_count": null,
   "metadata": {
    "scrolled": true
   },
   "outputs": [],
   "source": [
    "for number in range(10):\n",
    "    print(number)"
   ]
  }
 ],
 "metadata": {
  "kernelspec": {
   "display_name": "Python 3",
   "language": "python",
   "name": "python3"
  },
  "language_info": {
   "codemirror_mode": {
    "name": "ipython",
    "version": 3
   },
   "file_extension": ".py",
   "mimetype": "text/x-python",
   "name": "python",
   "nbconvert_exporter": "python",
   "pygments_lexer": "ipython3",
   "version": "3.6.5"
  }
 },
 "nbformat": 4,
 "nbformat_minor": 2
}
