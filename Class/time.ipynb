{
 "cells": [
  {
   "cell_type": "markdown",
   "metadata": {},
   "source": [
    "# Time module"
   ]
  },
  {
   "cell_type": "markdown",
   "metadata": {},
   "source": [
    "## The epoch\n",
    "Every computer count in seconds since a defined moment, which is called the Epoch. For most of the computers, the epoch is set the 1th january 1970 at 00:00."
   ]
  },
  {
   "cell_type": "code",
   "execution_count": 2,
   "metadata": {},
   "outputs": [],
   "source": [
    "import time"
   ]
  },
  {
   "cell_type": "markdown",
   "metadata": {},
   "source": [
    "## Get number of seconds since epoch\n",
    "time.time() return an amount of seconds"
   ]
  },
  {
   "cell_type": "code",
   "execution_count": 6,
   "metadata": {},
   "outputs": [
    {
     "name": "stdout",
     "output_type": "stream",
     "text": [
      "1552404463.6391277\n"
     ]
    }
   ],
   "source": [
    "print(time.time())"
   ]
  },
  {
   "cell_type": "markdown",
   "metadata": {},
   "source": [
    "## Transform it to date\n",
    "We can tranform an amount of seconds into date with time.ctime() and time.gmtime().<br>\n",
    "time.ctime() returns a string with the date in text while time.gmtime() returns a timestruct object"
   ]
  },
  {
   "cell_type": "code",
   "execution_count": 31,
   "metadata": {},
   "outputs": [
    {
     "name": "stdout",
     "output_type": "stream",
     "text": [
      "Tue Mar 12 17:58:33 2019\n",
      "time.struct_time(tm_year=2019, tm_mon=3, tm_mday=12, tm_hour=15, tm_min=58, tm_sec=33, tm_wday=1, tm_yday=71, tm_isdst=0)\n"
     ]
    }
   ],
   "source": [
    "print(time.ctime(time.time()))\n",
    "print(time.gmtime(time.time()))\n"
   ]
  },
  {
   "cell_type": "markdown",
   "metadata": {},
   "source": [
    "## timestruct\n",
    "timestruct is an object of the time module. Year, month, day, hour, minutes, seconds, weekday and yearday can be accessed as attributes or by index.<br>\n",
    "\n",
    "0\ttm_year\tyear<br>\n",
    "1\ttm_mon\tmonth<br>\n",
    "2\ttm_mday\tday<br>\n",
    "3\ttm_hour\thour<br>\n",
    "4\ttm_min\tminutes<br>\n",
    "5\ttm_sec\tseconds<br>\n",
    "6\ttm_wday\tweek days<br>\n",
    "7\ttm_yday\tyear day<br>\n"
   ]
  },
  {
   "cell_type": "code",
   "execution_count": 18,
   "metadata": {},
   "outputs": [
    {
     "name": "stdout",
     "output_type": "stream",
     "text": [
      "Today is the 3 12 of year 2019\n"
     ]
    }
   ],
   "source": [
    "today_struct = time.gmtime(time.time())\n",
    "print(\"Today is the {} {} of year {}\".format(today_struct.tm_mon, today_struct.tm_mday, today_struct.tm_year))"
   ]
  },
  {
   "cell_type": "markdown",
   "metadata": {},
   "source": [
    "## sleep\n",
    "function that stops the program for a given number of seconds."
   ]
  },
  {
   "cell_type": "code",
   "execution_count": 19,
   "metadata": {},
   "outputs": [
    {
     "name": "stdout",
     "output_type": "stream",
     "text": [
      "Hey...\n",
      "Good morning!\n"
     ]
    }
   ],
   "source": [
    "print(\"Hey...\")\n",
    "time.sleep(3)\n",
    "print(\"Good morning!\")"
   ]
  },
  {
   "cell_type": "markdown",
   "metadata": {},
   "source": [
    "****"
   ]
  },
  {
   "cell_type": "markdown",
   "metadata": {},
   "source": [
    "## Timing a part of code"
   ]
  },
  {
   "cell_type": "code",
   "execution_count": 24,
   "metadata": {},
   "outputs": [
    {
     "name": "stdout",
     "output_type": "stream",
     "text": [
      "9999998\n",
      "9999998\n",
      "it took 1.257638931274414 seconds to execute bigloop\n"
     ]
    }
   ],
   "source": [
    "def bigloop():\n",
    "    for i in range(5000000):\n",
    "        i = i +i\n",
    "    return i \n",
    "\n",
    "start_time = time.time()\n",
    "end_time   = time.time()\n",
    "execution_time = end_time - start_time\n",
    "\n",
    "print(\"it took {} seconds to execute bigloop\".format(execution_time))"
   ]
  },
  {
   "cell_type": "markdown",
   "metadata": {},
   "source": [
    "## Do something every 5 seconds"
   ]
  },
  {
   "cell_type": "code",
   "execution_count": null,
   "metadata": {},
   "outputs": [],
   "source": [
    "while True:\n",
    "    print('Hello World')\n",
    "    time.sleep(5)"
   ]
  },
  {
   "cell_type": "markdown",
   "metadata": {},
   "source": [
    "****\n",
    "# Exercises"
   ]
  },
  {
   "cell_type": "markdown",
   "metadata": {},
   "source": [
    "### 1 \n",
    "Write a function that display the date of today"
   ]
  },
  {
   "cell_type": "markdown",
   "metadata": {},
   "source": [
    "### 2 \n",
    "Write a function that print (\"Hi there\") every 5 seconds"
   ]
  },
  {
   "cell_type": "markdown",
   "metadata": {},
   "source": [
    "### 3 \n",
    "Write a function that print the hour every 5 seconds"
   ]
  }
 ],
 "metadata": {
  "kernelspec": {
   "display_name": "Python 3",
   "language": "python",
   "name": "python3"
  },
  "language_info": {
   "codemirror_mode": {
    "name": "ipython",
    "version": 3
   },
   "file_extension": ".py",
   "mimetype": "text/x-python",
   "name": "python",
   "nbconvert_exporter": "python",
   "pygments_lexer": "ipython3",
   "version": "3.6.5"
  }
 },
 "nbformat": 4,
 "nbformat_minor": 2
}
