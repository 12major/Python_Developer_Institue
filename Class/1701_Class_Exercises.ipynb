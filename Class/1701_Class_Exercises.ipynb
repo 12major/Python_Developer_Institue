{
 "cells": [
  {
   "cell_type": "markdown",
   "metadata": {},
   "source": [
    "# Class resume\n",
    "\n",
    "## Lists\n",
    "\n",
    "<ul>\n",
    "    <li>Define a list: my_list = [\"this\", \"is\", \"a\", \"list\"]</li>\n",
    "    <li>List can contain elements of different types: my_list = [\"this\", 18, 21, \"hillary\"]</li>\n",
    "    <li>Access an element in a list with his index: my_list[0] will return \"this\"</li>\n",
    "    <li>Index can be negative, my_list[-1] will return the last item of the list</li>\n",
    "    <li>Change an element in a list with his index: my_list[0] = \"changed\" will set the first element of the list as \"changed</li>\n",
    "    <li>Get only a part of a list: my_list[0:2] will return the first two elements of the list (in [0:2], the 0 is included but the 2 isn't</li>\n",
    "</ul>\n",
    "\n",
    "## Strings\n",
    "\n",
    "<ul>\n",
    "    <li>Define a string: my_string1 = \"Hello\" or my_string2 = 'World'</li>\n",
    "    <li>'7' is a string too</li>\n",
    "    <li>Add two strings: my_string1 + my_string2 = \"HelloWorld\"</li>\n",
    "    <li>Print a variable in a string: print(\"This is my variable:\"+my_string1)</li>\n",
    "    <li>We can access elements in a string like we do in a list: my_string1[0] will return H, my_string1[-1] will return o</li>\n",
    "    <li>We can't change a string like we do in a list: my_string1[1] = \"X\" will throw an error</li>\n",
    "    <li>Some string functions: (my_string = \"this is a string\"):</li>\n",
    "    <p>    upper(): my_string.upper() --> \"THIS IS A STRING\"</p>\n",
    "    <p>    lower(): my_string.lower() --> \"this is a string\"</p>\n",
    "    <p>    capitalize(): my_string.capitalize() --> \"This is a string\" </p>\n",
    "    <p>    title(): my_string.title() --> \"This Is A String\" </p>\n",
    "    <p>    replace(remplace_this, by_this): my_string.replace(\" \",\"-\") --> \"this-is-a-string\"</p>\n",
    "</ul>\n"
   ]
  },
  {
   "cell_type": "markdown",
   "metadata": {},
   "source": [
    "# Exercise 1:\n",
    "\n",
    "In a restaurant, the cost of main course is 10 dollars, customers can also take a drink or a desert \n",
    "Calculate the bill for every customer\n",
    "\n",
    "Drink is 7 dollars, desert is 5 dollars\n"
   ]
  },
  {
   "cell_type": "code",
   "execution_count": null,
   "metadata": {
    "scrolled": true
   },
   "outputs": [],
   "source": [
    "# Solution:\n",
    "name = input(\"Hi, what is your name?\\n\")\n",
    "print(\"hey \",name)\n",
    "drink_answer = input(\"Did you take a drink [yes/no]?\\n\")\n",
    "desert_answer = input(\"Did you take a desert [yes/no]?\\n\")\n",
    "\n",
    "cost = 10\n",
    "\n",
    "if drink_answer == \"yes\":\n",
    "    cost += 7\n",
    "if desert_answer == \"yes\":\n",
    "    cost += 5\n",
    "\n",
    "print(name,\": \",cost,\"$\")\n",
    "\n",
    "\n",
    "print(\"Goodbye !\")\n",
    "    "
   ]
  },
  {
   "cell_type": "markdown",
   "metadata": {},
   "source": [
    "# Exercise 1: \n",
    "\n",
    "In a string, replace every whitespace by a dash"
   ]
  },
  {
   "cell_type": "code",
   "execution_count": 18,
   "metadata": {},
   "outputs": [
    {
     "name": "stdout",
     "output_type": "stream",
     "text": [
      "Method 1: This-is-a-string\n",
      "Method 2: This-is-a-string\n"
     ]
    }
   ],
   "source": [
    "s1 = \"This is a string\"\n",
    "ix=0\n",
    "\n",
    "s2 = \"\"\n",
    "while ix < len(s1):\n",
    "    if s1[ix] == \" \":\n",
    "        s2 += \"-\"\n",
    "    else:\n",
    "        s2 += s1[ix]\n",
    "    ix += 1\n",
    "    \n",
    "print(\"Method 1:\",s2)\n",
    "\n",
    "##### OR ######\n",
    "s2 = s1.replace(\" \", \"-\") \n",
    "\n",
    "print(\"Method 2:\",s2)\n",
    "      "
   ]
  },
  {
   "cell_type": "markdown",
   "metadata": {},
   "source": [
    "# Exercise 2\n",
    "\n",
    "Reverse a string"
   ]
  },
  {
   "cell_type": "code",
   "execution_count": 19,
   "metadata": {},
   "outputs": [
    {
     "name": "stdout",
     "output_type": "stream",
     "text": [
      "Method 1: gnirts a si sihT\n",
      "Method 2: gnirts a si sihT\n"
     ]
    }
   ],
   "source": [
    "s1 = \"This is a string\"\n",
    "ix = len(s1) - 1 # Start from the end (-1 because the order start from 0 so given a list of length 5, \n",
    "                #                                                 the last element will be at index 4)\n",
    "\n",
    "s2 = \"\"\n",
    "while ix >= 0: # Continue until the index is 0 --> First element\n",
    "    s2 += s1[ix]        \n",
    "        \n",
    "    ix -= 1 # Reduce ix by 1 each time\n",
    "\n",
    "print(\"Method 1:\",s2)\n",
    "\n",
    "##### OR #####\n",
    "print(\"Method 2:\",s1[::-1])\n",
    "    "
   ]
  },
  {
   "cell_type": "code",
   "execution_count": null,
   "metadata": {},
   "outputs": [],
   "source": []
  }
 ],
 "metadata": {
  "kernelspec": {
   "display_name": "Python 3",
   "language": "python",
   "name": "python3"
  },
  "language_info": {
   "codemirror_mode": {
    "name": "ipython",
    "version": 3
   },
   "file_extension": ".py",
   "mimetype": "text/x-python",
   "name": "python",
   "nbconvert_exporter": "python",
   "pygments_lexer": "ipython3",
   "version": "3.6.5"
  }
 },
 "nbformat": 4,
 "nbformat_minor": 2
}
