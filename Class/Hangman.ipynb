{
 "cells": [
  {
   "cell_type": "markdown",
   "metadata": {},
   "source": [
    "# Download words"
   ]
  },
  {
   "cell_type": "code",
   "execution_count": 11,
   "metadata": {},
   "outputs": [
    {
     "name": "stdout",
     "output_type": "stream",
     "text": [
      "Finished\n"
     ]
    }
   ],
   "source": [
    "import requests\n",
    "\n",
    "def clean_word(word):\n",
    "    alphabet = \"abcdefghijklmnopqrstuvwxyz\"\n",
    "    for letter in word:\n",
    "        if letter.lower() not in alphabet:\n",
    "            return False\n",
    "    return True\n",
    "    \n",
    "req = requests.get(r\"https://raw.githubusercontent.com/dwyl/english-words/master/words.txt\")\n",
    "\n",
    "myfile = \"words-list.txt\"\n",
    "content = req.text\n",
    "\n",
    "wordslist   = content.split(\"\\n\")\n",
    "clean_words = [word.upper() for word in wordslist if clean_word(word)]\n",
    "clean_content = \"\\n\".join(clean_words)\n",
    "\n",
    "with open(myfile, 'w') as f:\n",
    "    f.write(clean_content)\n",
    "\n",
    "print(\"Finished\")"
   ]
  },
  {
   "cell_type": "markdown",
   "metadata": {},
   "source": [
    "# Create a Hangman class"
   ]
  },
  {
   "cell_type": "code",
   "execution_count": 7,
   "metadata": {},
   "outputs": [],
   "source": [
    "import random\n",
    "\n",
    "class HangmanGame:\n",
    "    \n",
    "    def __init__(self,\n",
    "                words_file):\n",
    "        \n",
    "        self.words_file = words_file\n",
    "        self.life       = 8\n",
    "        \n",
    "    def pick_word(self,\n",
    "                 file):\n",
    "        \n",
    "        words         = open(file, 'r').readlines()\n",
    "        random_line_n = random.randint(0, len(words)-1)\n",
    "        myword        = words[random_line_n].strip()\n",
    "        \n",
    "        return myword\n",
    "    \n",
    "    def play(self):\n",
    "        self.secret_word = self.pick_word(self.words_file)\n",
    "        self.public_word = ['*' for letter in self.secret_word]\n",
    "        while True:\n",
    "            self.player_turn()\n",
    "            if self.check_for_end():\n",
    "                break\n",
    "        \n",
    "    def player_turn(self):\n",
    "        print(' '.join(self.public_word))\n",
    "        user_letter = input(\"Choose a letter: \")\n",
    "        # add : check if the letter has already been used\n",
    "        if self.check_letter(user_letter):\n",
    "            self.found_letter(user_letter)\n",
    "            print(\"Yeah, {} is in the word !\".format(user_letter))\n",
    "        else:\n",
    "            self.life -= 1\n",
    "            print(\"Oh no :( {} is not in the word ({} lifes left)\".format(user_letter, self.life))\n",
    "        \n",
    "    def check_letter(self,\n",
    "                    letter):\n",
    "        if letter.upper() in self.secret_word:\n",
    "            return True\n",
    "        return False\n",
    "    \n",
    "    def found_letter(self,\n",
    "                    letter_found):\n",
    "        letter_found = letter_found.upper()\n",
    "        for ix, letter in enumerate(self.secret_word):\n",
    "            if letter == letter_found:\n",
    "                self.public_word[ix] = letter\n",
    "        \n",
    "    def check_for_end(self):\n",
    "        # loose\n",
    "        if self.life < 0:\n",
    "            print(\"Sorry, you lose.. The word was {}\".format(self.secret_word))\n",
    "            return True\n",
    "        # win\n",
    "        if '*' not in self.public_word:\n",
    "            print(\"Congrats! You won with {} lifes!\".format(self.life))\n",
    "            return True\n",
    "        \n",
    "        return False\n",
    "    \n",
    "    def play_again(self):\n",
    "        again = input(\"Do you want to play again?[Y/n]\\n>>> \")\n",
    "        if again.lower() == 'y':\n",
    "            self.play()\n",
    "        else:\n",
    "            print(\"No problem, Good Bye =)\")"
   ]
  },
  {
   "cell_type": "code",
   "execution_count": 8,
   "metadata": {
    "scrolled": true
   },
   "outputs": [
    {
     "name": "stdout",
     "output_type": "stream",
     "text": [
      "* * * * * * * * * * * * * *\n",
      "Choose a letter: a\n",
      "Oh no :( a is not in the word (7 lifes left)\n",
      "* * * * * * * * * * * * * *\n",
      "Choose a letter: a\n",
      "Oh no :( a is not in the word (6 lifes left)\n",
      "* * * * * * * * * * * * * *\n",
      "Choose a letter: a\n",
      "Oh no :( a is not in the word (5 lifes left)\n",
      "* * * * * * * * * * * * * *\n",
      "Choose a letter: a\n",
      "Oh no :( a is not in the word (4 lifes left)\n",
      "* * * * * * * * * * * * * *\n",
      "Choose a letter: a\n",
      "Oh no :( a is not in the word (3 lifes left)\n",
      "* * * * * * * * * * * * * *\n",
      "Choose a letter: a\n",
      "Oh no :( a is not in the word (2 lifes left)\n",
      "* * * * * * * * * * * * * *\n",
      "Choose a letter: a\n",
      "Oh no :( a is not in the word (1 lifes left)\n",
      "* * * * * * * * * * * * * *\n",
      "Choose a letter: a\n",
      "Oh no :( a is not in the word (0 lifes left)\n",
      "* * * * * * * * * * * * * *\n",
      "Choose a letter: a\n",
      "Oh no :( a is not in the word (-1 lifes left)\n",
      "Sorry, you lose.. The word was PHOTOPITOMETER\n"
     ]
    }
   ],
   "source": [
    "hangman = HangmanGame('words-list.txt')\n",
    "hangman.play()"
   ]
  },
  {
   "cell_type": "code",
   "execution_count": null,
   "metadata": {},
   "outputs": [],
   "source": []
  }
 ],
 "metadata": {
  "kernelspec": {
   "display_name": "Python 3",
   "language": "python",
   "name": "python3"
  },
  "language_info": {
   "codemirror_mode": {
    "name": "ipython",
    "version": 3
   },
   "file_extension": ".py",
   "mimetype": "text/x-python",
   "name": "python",
   "nbconvert_exporter": "python",
   "pygments_lexer": "ipython3",
   "version": "3.6.5"
  }
 },
 "nbformat": 4,
 "nbformat_minor": 2
}
