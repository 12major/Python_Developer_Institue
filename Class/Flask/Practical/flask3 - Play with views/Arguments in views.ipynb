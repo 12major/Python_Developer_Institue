{
 "cells": [
  {
   "cell_type": "markdown",
   "metadata": {},
   "source": [
    "# Views can receive arguments\n",
    "\n",
    "A few methods are available to pass arguments through a request.\n",
    "<br>\n",
    "<br>\n",
    "*First, let's create fake data*"
   ]
  },
  {
   "cell_type": "code",
   "execution_count": null,
   "metadata": {},
   "outputs": [],
   "source": [
    "data_dict = {\n",
    "    \"users\":{\n",
    "        \"user1\":{\"name\":\"Eyal\", \"age\":32, \"posts\":['really cool to be here', 'great day !']},\n",
    "        \"user2\":{\"name\":\"Micheal\", \"age\":54, \"posts\":['just discovered a new music!', 'I love dogs so much']},\n",
    "        \"user3\":{\"name\":\"Jordan\", \"age\":21, 'posts':['Cooking is just so hard', 'How do you cook cheesecake?']},\n",
    "        \"user4\":{\"name\":\"Luke\", \"age\":30, 'posts':['today movies are nothing compared to old ones']},\n",
    "        \"user5\":{\"name\":\"Donald\", \"age\":5, 'posts':['someone saw my uncle?']},\n",
    "        \"user6\":{\"name\":\"Mario\", \"age\":52, 'posts':['I think we should get back to communism']},\n",
    "        \"user7\":{\"name\":\"Luigi\", \"age\":21, 'posts':['Finally have a game on me !', 'Why just talking about mario?', 'I am more than the funny brother']},\n",
    "        \"user8\":{\"name\":\"Peach\", \"age\":22, 'posts':['I love animals !']},\n",
    "    },\n",
    "    \n",
    "}"
   ]
  },
  {
   "cell_type": "markdown",
   "metadata": {},
   "source": [
    "### Now let's create a view that display informations on a specific user\n",
    "> Arguments are received in flask urls by adding <name_of_the_argument> in the url\n",
    "\n",
    "__For example:__<br>"
   ]
  },
  {
   "cell_type": "code",
   "execution_count": null,
   "metadata": {},
   "outputs": [],
   "source": [
    "@app.route(\"my_view/<my_argument>\")\n",
    "def myview(my_argument):\n",
    "    return \"HTML PAGE\""
   ]
  },
  {
   "cell_type": "markdown",
   "metadata": {},
   "source": [
    "This way, `my_argument` will take the value of what replaced his placeholder"
   ]
  },
  {
   "cell_type": "code",
   "execution_count": null,
   "metadata": {},
   "outputs": [],
   "source": [
    "@app.route(\"user/<username>\")\n",
    "def userinfo(username):\n",
    "    users = data_dict['users']\n",
    "    user  = users[username]\n",
    "    return flask.render_template(\"user_info_template.html\")"
   ]
  },
  {
   "cell_type": "code",
   "execution_count": null,
   "metadata": {},
   "outputs": [],
   "source": []
  }
 ],
 "metadata": {
  "kernelspec": {
   "display_name": "Python 3",
   "language": "python",
   "name": "python3"
  },
  "language_info": {
   "codemirror_mode": {
    "name": "ipython",
    "version": 3
   },
   "file_extension": ".py",
   "mimetype": "text/x-python",
   "name": "python",
   "nbconvert_exporter": "python",
   "pygments_lexer": "ipython3",
   "version": "3.6.5"
  }
 },
 "nbformat": 4,
 "nbformat_minor": 2
}
