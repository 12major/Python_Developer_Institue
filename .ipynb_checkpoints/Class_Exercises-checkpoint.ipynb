{
 "cells": [
  {
   "cell_type": "markdown",
   "metadata": {},
   "source": [
    "# Exercises"
   ]
  },
  {
   "cell_type": "markdown",
   "metadata": {},
   "source": [
    "# Basic"
   ]
  },
  {
   "cell_type": "markdown",
   "metadata": {},
   "source": [
    "# If statements"
   ]
  },
  {
   "cell_type": "code",
   "execution_count": null,
   "metadata": {},
   "outputs": [],
   "source": []
  },
  {
   "cell_type": "markdown",
   "metadata": {},
   "source": [
    "# Exercise 1:\n",
    "\n",
    "In a restaurant, the cost of main course is 10 dollars, customers can also take a drink or a desert \n",
    "Calculate the bill for every customer\n",
    "\n",
    "Drink is 7 dollars, desert is 5 dollars\n",
    "\n",
    "Improve 1: Calculate the total money earnt by a table\n"
   ]
  },
  {
   "cell_type": "code",
   "execution_count": 7,
   "metadata": {
    "scrolled": true
   },
   "outputs": [
    {
     "name": "stdout",
     "output_type": "stream",
     "text": [
      "Hi, what is your name?\n",
      "Eyal\n",
      "hey  Eyal\n",
      "Did you take a drink [yes/no]?\n",
      "yes\n",
      "Did you take a desert [yes/no]?\n",
      "yes\n",
      "Eyal :  22 $\n",
      "Is there another person ?yes\n",
      "Hi, what is your name?\n",
      "Barbie\n",
      "hey  Barbie\n",
      "Did you take a drink [yes/no]?\n",
      "yes\n",
      "Did you take a desert [yes/no]?\n",
      "no\n",
      "Barbie :  17 $\n",
      "Is there another person ?yes\n",
      "Hi, what is your name?\n",
      "hihi\n",
      "hey  hihi\n",
      "Did you take a drink [yes/no]?\n",
      "no\n",
      "Did you take a desert [yes/no]?\n",
      "no\n",
      "hihi :  10 $\n",
      "Is there another person ?cool\n"
     ]
    }
   ],
   "source": [
    "# Solution:\n",
    "\n",
    "again_flag = True\n",
    "while again_flag:\n",
    "    name = input(\"Hi, what is your name?\\n\")\n",
    "    print(\"hey \",name)\n",
    "    drink_answer = input(\"Did you take a drink [yes/no]?\\n\")\n",
    "    desert_answer = input(\"Did you take a desert [yes/no]?\\n\")\n",
    "\n",
    "    cost = 10\n",
    "\n",
    "    if drink_answer == \"yes\":\n",
    "        cost += 7\n",
    "    if desert_answer == \"yes\":\n",
    "        cost += 5\n",
    "\n",
    "    print(name,\": \",cost,\"$\")\n",
    "    \n",
    "    again = input(\"Is there another person ?\")\n",
    "    if again != \"yes\":\n",
    "        again_flag = False\n",
    "\n",
    "print(\"Goodbye !\")\n",
    "    "
   ]
  },
  {
   "cell_type": "markdown",
   "metadata": {},
   "source": [
    "# Strings"
   ]
  },
  {
   "cell_type": "markdown",
   "metadata": {},
   "source": [
    "# Exercise 1: \n",
    "\n",
    "In a string, replace every whitespace by a dash"
   ]
  },
  {
   "cell_type": "code",
   "execution_count": 8,
   "metadata": {},
   "outputs": [
    {
     "name": "stdout",
     "output_type": "stream",
     "text": [
      "This-is-a-string\n"
     ]
    }
   ],
   "source": [
    "s1 = \"This is a string\"\n",
    "ix=0\n",
    "\n",
    "s2 = \"\"\n",
    "while ix < len(s1):\n",
    "    if s1[ix] == \" \":\n",
    "        s2 += \"-\"\n",
    "    else:\n",
    "        s2 += s1[ix]\n",
    "    ix += 1\n",
    "    \n",
    "print(\"Method 1:\n",
    "      \",s2)\n",
    "\n",
    "##### OR ######\n",
    "s2 = s1.replace(\" \", \"-\")\n",
    "\n",
    "print(\"Method 2:\",s2)"
   ]
  },
  {
   "cell_type": "markdown",
   "metadata": {},
   "source": [
    "# Exercise 2\n",
    "\n",
    "Reverse a string"
   ]
  },
  {
   "cell_type": "code",
   "execution_count": 9,
   "metadata": {},
   "outputs": [
    {
     "ename": "IndexError",
     "evalue": "string index out of range",
     "output_type": "error",
     "traceback": [
      "\u001b[1;31m---------------------------------------------------------------------------\u001b[0m",
      "\u001b[1;31mIndexError\u001b[0m                                Traceback (most recent call last)",
      "\u001b[1;32m<ipython-input-9-553f9129520f>\u001b[0m in \u001b[0;36m<module>\u001b[1;34m()\u001b[0m\n\u001b[0;32m      4\u001b[0m \u001b[0ms2\u001b[0m \u001b[1;33m=\u001b[0m \u001b[1;34m\"\"\u001b[0m\u001b[1;33m\u001b[0m\u001b[0m\n\u001b[0;32m      5\u001b[0m \u001b[1;32mwhile\u001b[0m \u001b[0mix\u001b[0m \u001b[1;33m>\u001b[0m \u001b[1;36m0\u001b[0m\u001b[1;33m:\u001b[0m \u001b[1;31m# Continue until the index is 0 --> First element\u001b[0m\u001b[1;33m\u001b[0m\u001b[0m\n\u001b[1;32m----> 6\u001b[1;33m     \u001b[0ms2\u001b[0m \u001b[1;33m+=\u001b[0m \u001b[0ms1\u001b[0m\u001b[1;33m[\u001b[0m\u001b[0mix\u001b[0m\u001b[1;33m]\u001b[0m\u001b[1;33m\u001b[0m\u001b[0m\n\u001b[0m\u001b[0;32m      7\u001b[0m \u001b[1;33m\u001b[0m\u001b[0m\n\u001b[0;32m      8\u001b[0m     \u001b[0mix\u001b[0m \u001b[1;33m-=\u001b[0m \u001b[1;36m1\u001b[0m \u001b[1;31m# Reduce ix by 1 each time\u001b[0m\u001b[1;33m\u001b[0m\u001b[0m\n",
      "\u001b[1;31mIndexError\u001b[0m: string index out of range"
     ]
    }
   ],
   "source": [
    "s1 = \"This is a string\"\n",
    "ix = len(s1) - 1 # Start from the end (-1 because the order start from 0 so given a list of length 5, \n",
    "                #                                                 the last element will be at index 4)\n",
    "\n",
    "s2 = \"\"\n",
    "while ix > 0: # Continue until the index is 0 --> First element\n",
    "    s2 += s1[ix]        \n",
    "        \n",
    "    ix -= 1 # Reduce ix by 1 each time\n",
    "\n",
    "print(s2)\n",
    "    "
   ]
  },
  {
   "cell_type": "code",
   "execution_count": null,
   "metadata": {},
   "outputs": [],
   "source": []
  }
 ],
 "metadata": {
  "kernelspec": {
   "display_name": "Python 3",
   "language": "python",
   "name": "python3"
  },
  "language_info": {
   "codemirror_mode": {
    "name": "ipython",
    "version": 3
   },
   "file_extension": ".py",
   "mimetype": "text/x-python",
   "name": "python",
   "nbconvert_exporter": "python",
   "pygments_lexer": "ipython3",
   "version": "3.6.5"
  }
 },
 "nbformat": 4,
 "nbformat_minor": 2
}
