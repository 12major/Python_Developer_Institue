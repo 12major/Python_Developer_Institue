{
 "cells": [
  {
   "cell_type": "code",
   "execution_count": null,
   "metadata": {},
   "outputs": [],
   "source": []
  },
  {
   "cell_type": "markdown",
   "metadata": {},
   "source": [
    "# Index\n",
    "## Difficulty: *\n",
    "\n",
    "Return the index of an item in a list\n",
    "\n",
    "Example:\n",
    "If searching \"list\" in\n",
    "[\"This\", \"is\", \"a\", \"list\"],\n",
    "it's supposed to return 3\n"
   ]
  },
  {
   "cell_type": "markdown",
   "metadata": {},
   "source": [
    "# Extend\n",
    "## Difficulty: *\n",
    "\n",
    "Add a list to a list\n",
    "\n",
    "Example : [\"This\", \"is\"] and [\"my\", \"list\"] will return [\"This\", \"is\", \"my\", \"list\"]"
   ]
  },
  {
   "cell_type": "markdown",
   "metadata": {},
   "source": [
    "# Max and min\n",
    "## Difficulty: *\n",
    "\n",
    "Find the maximum and a minimum of a list of integers"
   ]
  },
  {
   "cell_type": "code",
   "execution_count": null,
   "metadata": {},
   "outputs": [],
   "source": []
  },
  {
   "cell_type": "markdown",
   "metadata": {},
   "source": [
    "# Exercise 4: Insert\n",
    "## Difficulty: **\n",
    "\n",
    "Insert an item at a defined index\n",
    "\n",
    "Example: I have the list [\"This\", \"my\", list\"] and I want to insert \"is\" at index 1 so I get [\"This\", \"is\", \"my\", \"list\"]\n",
    "\n",
    "    "
   ]
  },
  {
   "cell_type": "markdown",
   "metadata": {},
   "source": [
    "# Exercise 5: Split\n",
    "## Difficulty: ***\n",
    "\n",
    "Put each word of a string in a list\n",
    "\n",
    "Example : \"This is a string\" --> [\"This\", \"is\", \"a\", \"string\"]\n"
   ]
  },
  {
   "cell_type": "markdown",
   "metadata": {},
   "source": [
    "# Exercise 6: Reverse each word\n",
    "\n",
    "## Difficulty: \\**\\** \n",
    "\n",
    "Reverse each word in a string\n",
    "\n",
    "Example: \"This is a string\" --> \"sihT si a gnirts\""
   ]
  },
  {
   "cell_type": "code",
   "execution_count": null,
   "metadata": {},
   "outputs": [],
   "source": []
  }
 ],
 "metadata": {
  "kernelspec": {
   "display_name": "Python 3",
   "language": "python",
   "name": "python3"
  },
  "language_info": {
   "codemirror_mode": {
    "name": "ipython",
    "version": 3
   },
   "file_extension": ".py",
   "mimetype": "text/x-python",
   "name": "python",
   "nbconvert_exporter": "python",
   "pygments_lexer": "ipython3",
   "version": "3.6.5"
  }
 },
 "nbformat": 4,
 "nbformat_minor": 2
}
