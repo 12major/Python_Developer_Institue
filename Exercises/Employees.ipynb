{
 "cells": [
  {
   "cell_type": "markdown",
   "metadata": {},
   "source": [
    "# The society\n",
    "\n",
    "The CEO of fsociety needs your help to manage his employees, he wants to know how much he needs to pay them every month."
   ]
  },
  {
   "cell_type": "markdown",
   "metadata": {},
   "source": [
    "### First, implement an entity for employees\n",
    "An Employee has a name, a salary and an energy bar, he can work, he can buy a coffee (This is only 1$, he can afford it). When he works, his energy bar is getting down, while when he's drinking a coffee, the energy bar is getting back to 100%. If the employee got no energy, he can't work<br>\n",
    "The CEO wants to be aware of the financial state of every employee, that's why every employee should have a total amount of money represented in the model. Thus you need to implement ways to manage his money, when some money is getting in or out."
   ]
  },
  {
   "cell_type": "markdown",
   "metadata": {},
   "source": [
    "### Second, this manager has three types of employee\n",
    "\n",
    "In the fsociety, there are three types of employee, first one is helper, which contain cleaner, driver etc.. Second one is business man, and third one is a group of hackers.<br>\n",
    "Helpers only do 1 dollar per hour, while business man do 2.5 dollars per hour and hacker do 5 dollars per hour<br>"
   ]
  },
  {
   "cell_type": "markdown",
   "metadata": {},
   "source": [
    "### The manager have too much employees to pay them one by one\n",
    "He wants an automated system that pay everyone each month, this system should be able to add and remove employees from his list"
   ]
  },
  {
   "cell_type": "code",
   "execution_count": null,
   "metadata": {},
   "outputs": [],
   "source": []
  }
 ],
 "metadata": {
  "kernelspec": {
   "display_name": "Python 3",
   "language": "python",
   "name": "python3"
  },
  "language_info": {
   "codemirror_mode": {
    "name": "ipython",
    "version": 3
   },
   "file_extension": ".py",
   "mimetype": "text/x-python",
   "name": "python",
   "nbconvert_exporter": "python",
   "pygments_lexer": "ipython3",
   "version": "3.6.5"
  }
 },
 "nbformat": 4,
 "nbformat_minor": 2
}
