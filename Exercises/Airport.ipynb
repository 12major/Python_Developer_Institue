{
 "cells": [
  {
   "cell_type": "markdown",
   "metadata": {},
   "source": [
    "# The airport\n"
   ]
  },
  {
   "cell_type": "markdown",
   "metadata": {},
   "source": [
    "### An airport manager needs your help\n",
    "He wants you to create a program that let him see the status of his airport.<br>\n",
    "The purpose of the program is to create an airport representation with the elements that it contains."
   ]
  },
  {
   "cell_type": "markdown",
   "metadata": {},
   "source": [
    "### First of all, create an entity for the airport\n",
    "\n",
    "The airport has a name and a list of the planes inside it, it can receive/launch airplane.\n"
   ]
  },
  {
   "cell_type": "markdown",
   "metadata": {},
   "source": [
    "### Then, create an entity for the airplanes\n",
    "The airplanes have a certain amount of fuel, a maximum capacity of fuel, they can land and they can take off"
   ]
  },
  {
   "cell_type": "markdown",
   "metadata": {},
   "source": [
    "### The airport manager wants to have a representation of his airport\n",
    "At any moment, he can call a function to have a panorama of what is going in his airport"
   ]
  },
  {
   "cell_type": "markdown",
   "metadata": {},
   "source": [
    "### His airport is getting bigger, he now have two types of planes\n",
    "They got different fuel capacity, it's important for him to know this, implement those two types of plane"
   ]
  }
 ],
 "metadata": {
  "kernelspec": {
   "display_name": "Python 3",
   "language": "python",
   "name": "python3"
  },
  "language_info": {
   "codemirror_mode": {
    "name": "ipython",
    "version": 3
   },
   "file_extension": ".py",
   "mimetype": "text/x-python",
   "name": "python",
   "nbconvert_exporter": "python",
   "pygments_lexer": "ipython3",
   "version": "3.6.5"
  }
 },
 "nbformat": 4,
 "nbformat_minor": 2
}
