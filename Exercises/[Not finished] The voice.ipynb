{
 "cells": [
  {
   "cell_type": "markdown",
   "metadata": {},
   "source": [
    "# The voice"
   ]
  },
  {
   "cell_type": "markdown",
   "metadata": {},
   "source": [
    "### In 2019, people don't want to look at tv for a month, they want to know the result\n",
    "Thus everything needs to be fast, they want you to implement a simulation of The Voice."
   ]
  },
  {
   "cell_type": "markdown",
   "metadata": {},
   "source": [
    "### Implement a show model\n",
    "This model should have a list of candidates and a list of judges, the game goes like that: <br>\n",
    "In first step, every candidate pass in front of the jury, if three or more like him, he can go to the next step<br>\n",
    "After this, in the other steps, they choose one candidate of two and the other just get kicked out from the show<br>\n",
    "In fact, the jury of this year is really tired, he's taking every decision on a random base, without thiking or listening to anyone<br>\n"
   ]
  },
  {
   "cell_type": "markdown",
   "metadata": {},
   "source": [
    "### Implement models for Judge and Candidate\n",
    "judges should take completely random decision.<br>\n",
    "Candidate only sing"
   ]
  },
  {
   "cell_type": "code",
   "execution_count": null,
   "metadata": {},
   "outputs": [],
   "source": []
  }
 ],
 "metadata": {
  "kernelspec": {
   "display_name": "Python 3",
   "language": "python",
   "name": "python3"
  },
  "language_info": {
   "codemirror_mode": {
    "name": "ipython",
    "version": 3
   },
   "file_extension": ".py",
   "mimetype": "text/x-python",
   "name": "python",
   "nbconvert_exporter": "python",
   "pygments_lexer": "ipython3",
   "version": "3.6.5"
  }
 },
 "nbformat": 4,
 "nbformat_minor": 2
}
