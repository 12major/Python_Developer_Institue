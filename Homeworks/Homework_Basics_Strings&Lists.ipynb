{
 "cells": [
  {
   "cell_type": "markdown",
   "metadata": {},
   "source": [
    "# Index\n",
    "## Difficulty: *\n",
    "\n",
    "Return the index of an item in a list\n",
    "\n",
    "Example:\n",
    "If searching \"list\" in\n",
    "[\"This\", \"is\", \"a\", \"list\"],\n",
    "it's supposed to return 3\n"
   ]
  },
  {
   "cell_type": "markdown",
   "metadata": {},
   "source": [
    "## --------------------------------------------------------------------------------------------------------------"
   ]
  },
  {
   "cell_type": "markdown",
   "metadata": {},
   "source": [
    "# Extend\n",
    "## Difficulty: *\n",
    "\n",
    "Add a list to a list\n",
    "\n",
    "Example : [\"This\", \"is\"] and [\"my\", \"list\"] will return [\"This\", \"is\", \"my\", \"list\"]"
   ]
  },
  {
   "cell_type": "markdown",
   "metadata": {},
   "source": [
    "## --------------------------------------------------------------------------------------------------------------"
   ]
  },
  {
   "cell_type": "markdown",
   "metadata": {},
   "source": [
    "# Max and min\n",
    "## Difficulty: *\n",
    "\n",
    "Find the maximum and a minimum of a list of integers"
   ]
  },
  {
   "cell_type": "markdown",
   "metadata": {},
   "source": [
    "## --------------------------------------------------------------------------------------------------------------"
   ]
  },
  {
   "cell_type": "markdown",
   "metadata": {},
   "source": [
    "# Insert\n",
    "## Difficulty: ***\n",
    "\n",
    "Insert an item at a defined index\n",
    "\n",
    "Example: I have the list [\"This\", \"my\", list\"] and I want to insert \"is\" at index 1 so I get [\"This\", \"is\", \"my\", \"list\"]\n",
    "\n",
    "    "
   ]
  },
  {
   "cell_type": "markdown",
   "metadata": {},
   "source": [
    "## --------------------------------------------------------------------------------------------------------------"
   ]
  },
  {
   "cell_type": "markdown",
   "metadata": {},
   "source": [
    "# Split\n",
    "## Difficulty: **\n",
    "\n",
    "Put each word of a string in a list\n",
    "\n",
    "Example : \"This is a string\" --> [\"This\", \"is\", \"a\", \"string\"]\n"
   ]
  },
  {
   "cell_type": "markdown",
   "metadata": {},
   "source": [
    "## --------------------------------------------------------------------------------------------------------------"
   ]
  },
  {
   "cell_type": "markdown",
   "metadata": {},
   "source": [
    "# Reverse each word\n",
    "\n",
    "## Difficulty: \\**\\** \n",
    "\n",
    "Reverse each word in a string\n",
    "\n",
    "Example: \"This is a string\" --> \"sihT si a gnirts\""
   ]
  },
  {
   "cell_type": "code",
   "execution_count": null,
   "metadata": {
    "scrolled": true
   },
   "outputs": [],
   "source": [
    "s = \"This is a string\"\n",
    "rev_s = ' '.join([w[::-1] for w in s.split(' ')])"
   ]
  },
  {
   "cell_type": "markdown",
   "metadata": {},
   "source": [
    "## --------------------------------------------------------------------------------------------------------------"
   ]
  },
  {
   "cell_type": "markdown",
   "metadata": {},
   "source": [
    "# Print the longest word in a list\n",
    "## Difficulty: **\n",
    "\n",
    "Given a list of strings, return the longest word  (and his length).\n",
    "\n",
    "Example: [\"This\", \"is\", \"a\", \"string\"] --> \"string\", length is: 6"
   ]
  },
  {
   "cell_type": "markdown",
   "metadata": {},
   "source": [
    "## --------------------------------------------------------------------------------------------------------------"
   ]
  },
  {
   "cell_type": "markdown",
   "metadata": {},
   "source": [
    "# Split ints and strings\n",
    "## Difficulty: ***\n",
    "Given a list of ints and strings, put all the ints in one list, and all the strings in another one.\n",
    "\n",
    "Example: [\"This\", 6, \"is\", 12, \"a\", 7, \"string\"] --> [6,12,7] and [\"This\", \"is\", \"a\", \"string\"]\n"
   ]
  },
  {
   "cell_type": "code",
   "execution_count": 2,
   "metadata": {},
   "outputs": [],
   "source": [
    "my_list = [\"this\", 65, \"is\", 2, \"my\", 111, \"string\"]\n",
    "\n",
    "my_ints = []\n",
    "my_strings = []\n",
    "\n",
    "for elem in my_list:\n",
    "\tif type(elem) == int:\n",
    "\t\tmy_ints.append(elem)\n",
    "\telif type(elem) == str:\n",
    "\t\tmy_strings.append(elem)\n",
    "\telse:\n",
    "\t\tprint(\"Type {} is not recognized\".format(type(elem)))"
   ]
  },
  {
   "cell_type": "markdown",
   "metadata": {},
   "source": [
    "## --------------------------------------------------------------------------------------------------------------"
   ]
  }
 ],
 "metadata": {
  "kernelspec": {
   "display_name": "Python 3",
   "language": "python",
   "name": "python3"
  },
  "language_info": {
   "codemirror_mode": {
    "name": "ipython",
    "version": 3
   },
   "file_extension": ".py",
   "mimetype": "text/x-python",
   "name": "python",
   "nbconvert_exporter": "python",
   "pygments_lexer": "ipython3",
   "version": "3.6.5"
  }
 },
 "nbformat": 4,
 "nbformat_minor": 2
}
