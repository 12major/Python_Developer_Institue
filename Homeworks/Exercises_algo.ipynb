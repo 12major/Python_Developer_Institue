{
 "cells": [
  {
   "cell_type": "code",
   "execution_count": 5,
   "metadata": {},
   "outputs": [],
   "source": [
    "arr = [1,3,5,13,4,5,6]\n",
    "for index in range(len(arr)):\n",
    "    left_side = arr[:index]\n",
    "    right_side = arr[index+1:]\n",
    "    left_sum = sum(left_side)\n",
    "    right_sum = sum(right_side)\n",
    "    if left_sum == right_sum:\n",
    "        print(\"Found ! The number is: {}\".format(arr[index]))\n",
    "    "
   ]
  },
  {
   "cell_type": "markdown",
   "metadata": {
    "tags": [
     "Optimization"
    ],
    "type": "optimization"
   },
   "source": [
    "# Icecreams (###)\n",
    "*The difficulty of this exercise is optimisation*\n",
    "\n",
    "Everyday, Johnny and Pedrolito are going to ice cream parlor, with N dollars. The only rules are:\n",
    "-  Johnny and Pedrolito never buy the same flavor\n",
    "-  They have to spend all of their money\n",
    "Given a list of flavors costs, select the two that will cost all the money they have\n",
    "Example: \n",
    "<pre>\n",
    "Input:\n",
    "    cost = [1,3,4,6]\n",
    "    total_money = 7\n",
    "Output:\n",
    "    1 2\n",
    "</pre>\n",
    "The two flavors costing 3 and 4 mett the criteria, the program return their index (1 and 2)\n"
   ]
  },
  {
   "cell_type": "markdown",
   "metadata": {
    "tags": [
     "Optimization"
    ]
   },
   "source": [
    "# Calories (####)\n",
    "\n",
    "Edward loves candies, but he want to stay fit, so everyday, every candy has a calorie count, and Edward runs to expend those calories. If Edward has eaten *N* cupcakes with *c* calories, the number of miles he must run is: \\begin{align} 2^N*c\\end{align}\n",
    "\n",
    "Edward has a lot of candies, and each candy has a calorie count, every day he wants to eat a specific number of candies, your job is to determine what is the best set of candies to eat, so the distance that Edward must walked is minimized.<br>\n",
    "In input, you have two things:\n",
    "-  A list that represents calorie counts of every type of candy\n",
    "-  An integer that represents the number of candies Edward wants to eat\n",
    "<br>\n",
    "Example:\n",
    "<br>\n",
    "`Input: [5,10,7], 3`<br>\n",
    "Edward has 3 different type of candies, and want to eat 3 of them\n",
    "The minimum distance that he must run is \\begin{align} (2^0*10)+(2^1*7)+(2^2*5)=44 \\end{align}\n",
    "So the answer is `0,1,2`"
   ]
  },
  {
   "cell_type": "markdown",
   "metadata": {
    "tags": [
     "Array"
    ]
   },
   "source": [
    "# Candles (#)\n",
    "On the birthday's cake of your little brother, there is one candle for each year of his total age. When he blows out, he's only able to blow out the tallest ones. Your job is to find how many candles he can blow out.<br>\n",
    "The input is an array that represents the heights of the candles<br>\n",
    "Your output should be the number of candles he'll be able to blow out.<br>\n",
    "Example:<br>\n",
    "Input: `[5,4,3,2,5,5]`\n",
    "He can blow only 3 candles (the candles that have a height of 5)<br>\n",
    "Output: `3`\n"
   ]
  },
  {
   "cell_type": "markdown",
   "metadata": {
    "tags": [
     "Array"
    ]
   },
   "source": [
    "# Missing numbers (###)\n",
    "A bad programmer tried to copy a list into another one, but missed some elements, can you find them ?<br>\n",
    "Example:\n",
    "<pre><code>\n",
    "Input:  `[1,3,5,7,9,11], [1,3,5,11]` # 7 and 9 are missing\n",
    "Output: `Missing numbers: 7, 9`\n",
    "</pre></code>"
   ]
  },
  {
   "cell_type": "code",
   "execution_count": null,
   "metadata": {},
   "outputs": [],
   "source": []
  }
 ],
 "metadata": {
  "celltoolbar": "Tags",
  "kernelspec": {
   "display_name": "Python 3",
   "language": "python",
   "name": "python3"
  },
  "language_info": {
   "codemirror_mode": {
    "name": "ipython",
    "version": 3
   },
   "file_extension": ".py",
   "mimetype": "text/x-python",
   "name": "python",
   "nbconvert_exporter": "python",
   "pygments_lexer": "ipython3",
   "version": "3.6.5"
  }
 },
 "nbformat": 4,
 "nbformat_minor": 2
}
