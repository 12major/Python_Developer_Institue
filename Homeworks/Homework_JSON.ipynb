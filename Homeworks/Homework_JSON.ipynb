{
 "cells": [
  {
   "cell_type": "markdown",
   "metadata": {},
   "source": [
    "# Exercise 1\n",
    "***\n",
    "### Step 0: Init\n",
    "Create a `Character` class<br>\n",
    "Attributes are :\n",
    "-  name  (the name of the character)\n",
    "-  id    (a unique id, every character should have a different one. It should be generated automatically, try to use a class variable)\n",
    "-  level (an integer that is automatically set at 1)\n",
    "-  max_lifepoints (an integer that should always be `level*50`)\n",
    "-  current_lifepoints (an integer between 0 and `max_lifepoints`\n",
    "<br>\n",
    "*****\n",
    "### Step 1: Attack\n",
    "Create a method called attack, it receives as argument another `Character` object, and attack him, the power of the attack is `level*10`. (Attacking him mean substracting his life by the power of the attack)\n",
    "********\n",
    "### Step 2: Rest\n",
    "Create a method called rest, it receives as argument a rest time in seconds. During this rest time, the `Character` rests, and heals himself. He heals 2% of his life every second.\n",
    "*****\n",
    "### Step 3: Store params\n",
    "Create a method called store_params, that return a dictionnary of every attributes of the objects (`{'name':'eyal', 'id'=0, 'level'=5, max_lifepoints=250, current_lifepoints='132'}`)\n",
    "\n",
    "*****\n",
    "### Step 4: Store all the objects in a dictionnary\n",
    "Make a `players_objects` dictionnary that store every `Character` object with his id (id is an attribute of `Character`). It should look like this <pre>\n",
    "players_objects = {1: player1,\n",
    "                   2: player2,\n",
    "                   3: player3 }\n",
    "                   \n",
    "player1, player2 and player3 are `Character` objects\n",
    "</pre><br>\n",
    "Then make a `players_params` dictionnary that store every `Character` object with the attributes of the object as a dictionnary.<br>\n",
    "Example: <pre><code>\n",
    "players_params = {    0: {'name':'John', 'id'=0, 'level'=5, max_lifepoints=250, current_lifepoints='132'},\n",
    "                      1: {'name':'Eyal', 'id'=1, 'level'=3, max_lifepoints=150, current_lifepoints='23'},\n",
    "                      2: {'name':'Rick', 'id'=2, 'level'=1, max_lifepoints=50, current_lifepoints='50'}\n",
    "                                                                                                             }\n",
    "</pre></code>\n",
    "****\n",
    "### Step 5: Store the data\n",
    "Within a json file, store the `players_params` directory<br>\n",
    "Modify the `__init__` method of the class to load the parameters from the json file.<br>\n",
    "Modify every method that modify the character parameters to update the json file (You can also use a decorator)"
   ]
  },
  {
   "cell_type": "code",
   "execution_count": 3,
   "metadata": {},
   "outputs": [],
   "source": [
    "class Character:\n",
    "    \n",
    "    count = 0\n",
    "    \n",
    "    def __init__(self,\n",
    "                name):\n",
    "        \n",
    "        self.id         = Character.count\n",
    "        Character.count += 1\n",
    "        \n",
    "        self.name               = name\n",
    "        self.level              = 1\n",
    "        self.max_lifepoints     = 50\n",
    "        self.current_lifepoints = self.max_lifepoints\n",
    "    \n",
    "    def attack(self, attacker):\n",
    "        power = attacker.level*10\n",
    "        self.current_lifepoints -= power\n",
    "    \n",
    "    def rest(self, rest_time):\n",
    "        healed_pts = rest_time*self.current_lifepoints*2/100 \n",
    "        self.current_lifepoints += healed_pts\n",
    "    \n",
    "    def store_params(self):\n",
    "        params_dict = {\n",
    "            'name': self.name,\n",
    "            'id': self.id,\n",
    "            'level': self.level,\n",
    "            'max_lifepoints': self.max_lifepoints,\n",
    "            'current_lifepoints': self.current_lifepoints\n",
    "        }\n",
    "        return params_dict"
   ]
  },
  {
   "cell_type": "code",
   "execution_count": 4,
   "metadata": {},
   "outputs": [],
   "source": [
    "player1 = Character(\"Eyal\")\n",
    "player2 = Character(\"Maria\")\n",
    "player3 = Character(\"Marco\")\n",
    "\n",
    "players_objects = {}\n",
    "for player in (player1, player2, player3):\n",
    "    players_objects[player.id] = player\n"
   ]
  },
  {
   "cell_type": "code",
   "execution_count": null,
   "metadata": {},
   "outputs": [],
   "source": []
  }
 ],
 "metadata": {
  "kernelspec": {
   "display_name": "Python 3",
   "language": "python",
   "name": "python3"
  },
  "language_info": {
   "codemirror_mode": {
    "name": "ipython",
    "version": 3
   },
   "file_extension": ".py",
   "mimetype": "text/x-python",
   "name": "python",
   "nbconvert_exporter": "python",
   "pygments_lexer": "ipython3",
   "version": "3.6.5"
  }
 },
 "nbformat": 4,
 "nbformat_minor": 2
}
