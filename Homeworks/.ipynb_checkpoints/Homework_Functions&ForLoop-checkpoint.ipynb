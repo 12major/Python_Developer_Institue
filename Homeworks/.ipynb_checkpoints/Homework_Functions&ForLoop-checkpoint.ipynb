{
 "cells": [
  {
   "cell_type": "markdown",
   "metadata": {},
   "source": [
    "# For loop"
   ]
  },
  {
   "cell_type": "markdown",
   "metadata": {},
   "source": [
    "## Exercise 1: argmax\n",
    "\n",
    "Given a list of integers and using a for loop, return the maximum value in the list"
   ]
  },
  {
   "cell_type": "markdown",
   "metadata": {},
   "source": [
    "## Exercise 2: copy\n",
    "\n",
    "Copy all the element in one list to another one"
   ]
  },
  {
   "cell_type": "markdown",
   "metadata": {},
   "source": [
    "## Exercise 3: enumerate\n",
    "Given a list and using a for loop, print every element of the list with his index in the list\n",
    "<pre>\n",
    "Example: my_list = [\"this\", \"is\", \"a\", \"list\"]\n",
    "output: \n",
    "1-\"this\"\n",
    "2-\"is\"\n",
    "3-\"a\"\n",
    "4-\"list\"\n",
    "</pre>"
   ]
  }
 ],
 "metadata": {
  "kernelspec": {
   "display_name": "Python 3",
   "language": "python",
   "name": "python3"
  },
  "language_info": {
   "codemirror_mode": {
    "name": "ipython",
    "version": 3
   },
   "file_extension": ".py",
   "mimetype": "text/x-python",
   "name": "python",
   "nbconvert_exporter": "python",
   "pygments_lexer": "ipython3",
   "version": "3.6.5"
  }
 },
 "nbformat": 4,
 "nbformat_minor": 2
}
