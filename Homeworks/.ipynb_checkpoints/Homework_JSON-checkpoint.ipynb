{
 "cells": [
  {
   "cell_type": "markdown",
   "metadata": {},
   "source": [
    "## Exercise 1\n",
    "Create a `Character` class<br>\n",
    "Attributes are :\n",
    "-  name  (the name of the character)\n",
    "-  id    (a unique id, every character should have a different one. It should be generated automatically, try to use a class variable)\n",
    "-  level (an integer that is automatically set at 1)\n",
    "-  max_lifepoints (an integer that should always be `level*50`)\n",
    "-  current_lifepoints (an integer between 0 and `max_lifepoints`\n",
    "<br>\n",
    "*****\n",
    "### Step 1: Attack\n",
    "Create a method called attack, it receives as argument another `Character` object, and attack him, the power of the attack is `level*10`. (Attacking him mean substracting his life by the power of the attack)\n",
    "********\n",
    "### Step 2: Rest\n",
    "Create a method called rest, it receives as argument a rest time in seconds. During this rest time, the `Character` rests, and heals himself. He heals 2% of his life every second.\n",
    "*****\n",
    "### Step 3: Store params\n",
    "Create a method called store_params, that return a dictionnary of every attributes of the objects (`{'name':'eyal', 'id'=0, 'level'=5, max_lifepoints=250, current_lifepoints='132'}`)\n",
    "\n",
    "*****\n",
    "### Step 4: Store all the objects in a dictionnary\n",
    "Make a `players_objects` dictionnary that store every `Character` object with his id (id is an attribute of `Character`). It should look like this <pre>\n",
    "players_objects = {1: player1,\n",
    "                   2: player2,\n",
    "                   3: player3 }\n",
    "                   \n",
    "player1, player2 and player3 are `Character` objects\n",
    "</pre><br>\n",
    "Then make a `players_params` dictionnary that store every `Character` object with the attributes of the object as a dictionnary.<br>\n",
    "Example: <pre><code>\n",
    "players_params = {    0: {'name':'John', 'id'=0, 'level'=5, max_lifepoints=250, current_lifepoints='132'},\n",
    "                      1: {'name':'Eyal', 'id'=1, 'level'=3, max_lifepoints=150, current_lifepoints='23'},\n",
    "                      2: {'name':'Rick', 'id'=2, 'level'=1, max_lifepoints=50, current_lifepoints='50'}\n",
    "                                                                                                             }\n",
    "</pre></code>\n",
    "\n",
    "### Step 3: Store the data\n",
    "Within a json file, store a dictionnary with all the "
   ]
  },
  {
   "cell_type": "code",
   "execution_count": null,
   "metadata": {},
   "outputs": [],
   "source": []
  }
 ],
 "metadata": {
  "kernelspec": {
   "display_name": "Python 3",
   "language": "python",
   "name": "python3"
  },
  "language_info": {
   "codemirror_mode": {
    "name": "ipython",
    "version": 3
   },
   "file_extension": ".py",
   "mimetype": "text/x-python",
   "name": "python",
   "nbconvert_exporter": "python",
   "pygments_lexer": "ipython3",
   "version": "3.6.5"
  }
 },
 "nbformat": 4,
 "nbformat_minor": 2
}
