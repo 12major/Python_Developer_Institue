{
 "cells": [
  {
   "cell_type": "markdown",
   "metadata": {},
   "source": [
    "#### Exercise 1\n",
    "Take the `ugly_sample.txt`, remove the bad whitespaces (white spaces that are before or after all the words) and write the clean text inside a new file called `exercise1.txt` (don't write empty lines)\n",
    "\n",
    "#### Exercise 2\n",
    "Count how many lines are in `text_sample.txt` (please don't do this manually :(...)\n",
    "\n",
    "#### Exercise 3\n",
    "Create a new file called `exercise3.txt`, inside this file, add `reverseme.txt` but reversed\n",
    "\n",
    "#### Exercise 4\n",
    "Count how many phrases are in `text_sample.txt` (...)\n",
    "\n",
    "#### Exercise 5 \n",
    "Create a function called `write_mail` that receives `message`, `from` and `to` as argument, this function takes a message, a sender and a receiver and write a mail in a file called `MyMail.txt`<br>\n",
    "Example:<br>\n",
    "`write_mail(\"Hey how are you ?:)\\nDid you do all the exercises ?\", \"eyal.work@chocron.eu\", \"students@gmail.com\")`<br>\n",
    "<pre><code>\n",
    "MyMail.txt:\n",
    "    from eyal.work@chocron.eu to students@gmail.com\n",
    "    >> Hey how are you :)\n",
    "    >> Did you do all the exercises ?\n",
    "    (02/12/19 at 20:30)\n",
    "    \n",
    "</code></pre>"
   ]
  }
 ],
 "metadata": {
  "kernelspec": {
   "display_name": "Python 3",
   "language": "python",
   "name": "python3"
  },
  "language_info": {
   "codemirror_mode": {
    "name": "ipython",
    "version": 3
   },
   "file_extension": ".py",
   "mimetype": "text/x-python",
   "name": "python",
   "nbconvert_exporter": "python",
   "pygments_lexer": "ipython3",
   "version": "3.6.5"
  }
 },
 "nbformat": 4,
 "nbformat_minor": 2
}
